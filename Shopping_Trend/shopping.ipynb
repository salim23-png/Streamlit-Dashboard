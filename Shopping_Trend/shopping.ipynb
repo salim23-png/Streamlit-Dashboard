{
 "cells": [
  {
   "cell_type": "code",
   "execution_count": 18,
   "id": "f4f371b8",
   "metadata": {},
   "outputs": [],
   "source": [
    "import pandas as pd\n",
    "import numpy as np\n",
    "import seaborn as sns\n",
    "import matplotlib.pyplot as plt\n",
    "import plotly.express as px\n",
    "import plotly.colors as pc\n",
    "import plotly.graph_objects as go\n",
    "import us # for location abbreviation"
   ]
  },
  {
   "cell_type": "code",
   "execution_count": 19,
   "id": "0ffb41cd",
   "metadata": {},
   "outputs": [
    {
     "data": {
      "text/html": [
       "<div>\n",
       "<style scoped>\n",
       "    .dataframe tbody tr th:only-of-type {\n",
       "        vertical-align: middle;\n",
       "    }\n",
       "\n",
       "    .dataframe tbody tr th {\n",
       "        vertical-align: top;\n",
       "    }\n",
       "\n",
       "    .dataframe thead th {\n",
       "        text-align: right;\n",
       "    }\n",
       "</style>\n",
       "<table border=\"1\" class=\"dataframe\">\n",
       "  <thead>\n",
       "    <tr style=\"text-align: right;\">\n",
       "      <th></th>\n",
       "      <th>Customer ID</th>\n",
       "      <th>Age</th>\n",
       "      <th>Gender</th>\n",
       "      <th>Item Purchased</th>\n",
       "      <th>Category</th>\n",
       "      <th>Purchase Amount (USD)</th>\n",
       "      <th>Location</th>\n",
       "      <th>Size</th>\n",
       "      <th>Color</th>\n",
       "      <th>Season</th>\n",
       "      <th>Review Rating</th>\n",
       "      <th>Subscription Status</th>\n",
       "      <th>Shipping Type</th>\n",
       "      <th>Discount Applied</th>\n",
       "      <th>Promo Code Used</th>\n",
       "      <th>Previous Purchases</th>\n",
       "      <th>Payment Method</th>\n",
       "      <th>Frequency of Purchases</th>\n",
       "    </tr>\n",
       "  </thead>\n",
       "  <tbody>\n",
       "    <tr>\n",
       "      <th>0</th>\n",
       "      <td>1</td>\n",
       "      <td>55</td>\n",
       "      <td>Male</td>\n",
       "      <td>Blouse</td>\n",
       "      <td>Clothing</td>\n",
       "      <td>53</td>\n",
       "      <td>Kentucky</td>\n",
       "      <td>L</td>\n",
       "      <td>Gray</td>\n",
       "      <td>Winter</td>\n",
       "      <td>3.1</td>\n",
       "      <td>Yes</td>\n",
       "      <td>Express</td>\n",
       "      <td>Yes</td>\n",
       "      <td>Yes</td>\n",
       "      <td>14</td>\n",
       "      <td>Venmo</td>\n",
       "      <td>Fortnightly</td>\n",
       "    </tr>\n",
       "    <tr>\n",
       "      <th>1</th>\n",
       "      <td>2</td>\n",
       "      <td>19</td>\n",
       "      <td>Male</td>\n",
       "      <td>Sweater</td>\n",
       "      <td>Clothing</td>\n",
       "      <td>64</td>\n",
       "      <td>Maine</td>\n",
       "      <td>L</td>\n",
       "      <td>Maroon</td>\n",
       "      <td>Winter</td>\n",
       "      <td>3.1</td>\n",
       "      <td>Yes</td>\n",
       "      <td>Express</td>\n",
       "      <td>Yes</td>\n",
       "      <td>Yes</td>\n",
       "      <td>2</td>\n",
       "      <td>Cash</td>\n",
       "      <td>Fortnightly</td>\n",
       "    </tr>\n",
       "    <tr>\n",
       "      <th>2</th>\n",
       "      <td>3</td>\n",
       "      <td>50</td>\n",
       "      <td>Male</td>\n",
       "      <td>Jeans</td>\n",
       "      <td>Clothing</td>\n",
       "      <td>73</td>\n",
       "      <td>Massachusetts</td>\n",
       "      <td>S</td>\n",
       "      <td>Maroon</td>\n",
       "      <td>Spring</td>\n",
       "      <td>3.1</td>\n",
       "      <td>Yes</td>\n",
       "      <td>Free Shipping</td>\n",
       "      <td>Yes</td>\n",
       "      <td>Yes</td>\n",
       "      <td>23</td>\n",
       "      <td>Credit Card</td>\n",
       "      <td>Weekly</td>\n",
       "    </tr>\n",
       "    <tr>\n",
       "      <th>3</th>\n",
       "      <td>4</td>\n",
       "      <td>21</td>\n",
       "      <td>Male</td>\n",
       "      <td>Sandals</td>\n",
       "      <td>Footwear</td>\n",
       "      <td>90</td>\n",
       "      <td>Rhode Island</td>\n",
       "      <td>M</td>\n",
       "      <td>Maroon</td>\n",
       "      <td>Spring</td>\n",
       "      <td>3.5</td>\n",
       "      <td>Yes</td>\n",
       "      <td>Next Day Air</td>\n",
       "      <td>Yes</td>\n",
       "      <td>Yes</td>\n",
       "      <td>49</td>\n",
       "      <td>PayPal</td>\n",
       "      <td>Weekly</td>\n",
       "    </tr>\n",
       "    <tr>\n",
       "      <th>4</th>\n",
       "      <td>5</td>\n",
       "      <td>45</td>\n",
       "      <td>Male</td>\n",
       "      <td>Blouse</td>\n",
       "      <td>Clothing</td>\n",
       "      <td>49</td>\n",
       "      <td>Oregon</td>\n",
       "      <td>M</td>\n",
       "      <td>Turquoise</td>\n",
       "      <td>Spring</td>\n",
       "      <td>2.7</td>\n",
       "      <td>Yes</td>\n",
       "      <td>Free Shipping</td>\n",
       "      <td>Yes</td>\n",
       "      <td>Yes</td>\n",
       "      <td>31</td>\n",
       "      <td>PayPal</td>\n",
       "      <td>Annually</td>\n",
       "    </tr>\n",
       "  </tbody>\n",
       "</table>\n",
       "</div>"
      ],
      "text/plain": [
       "   Customer ID  Age Gender Item Purchased  Category  Purchase Amount (USD)  \\\n",
       "0            1   55   Male         Blouse  Clothing                     53   \n",
       "1            2   19   Male        Sweater  Clothing                     64   \n",
       "2            3   50   Male          Jeans  Clothing                     73   \n",
       "3            4   21   Male        Sandals  Footwear                     90   \n",
       "4            5   45   Male         Blouse  Clothing                     49   \n",
       "\n",
       "        Location Size      Color  Season  Review Rating Subscription Status  \\\n",
       "0       Kentucky    L       Gray  Winter            3.1                 Yes   \n",
       "1          Maine    L     Maroon  Winter            3.1                 Yes   \n",
       "2  Massachusetts    S     Maroon  Spring            3.1                 Yes   \n",
       "3   Rhode Island    M     Maroon  Spring            3.5                 Yes   \n",
       "4         Oregon    M  Turquoise  Spring            2.7                 Yes   \n",
       "\n",
       "   Shipping Type Discount Applied Promo Code Used  Previous Purchases  \\\n",
       "0        Express              Yes             Yes                  14   \n",
       "1        Express              Yes             Yes                   2   \n",
       "2  Free Shipping              Yes             Yes                  23   \n",
       "3   Next Day Air              Yes             Yes                  49   \n",
       "4  Free Shipping              Yes             Yes                  31   \n",
       "\n",
       "  Payment Method Frequency of Purchases  \n",
       "0          Venmo            Fortnightly  \n",
       "1           Cash            Fortnightly  \n",
       "2    Credit Card                 Weekly  \n",
       "3         PayPal                 Weekly  \n",
       "4         PayPal               Annually  "
      ]
     },
     "execution_count": 19,
     "metadata": {},
     "output_type": "execute_result"
    }
   ],
   "source": [
    "df = pd.read_csv(\"shopping_trends_updated.csv\")\n",
    "df.head()"
   ]
  },
  {
   "cell_type": "code",
   "execution_count": 20,
   "id": "49c9eb95",
   "metadata": {},
   "outputs": [
    {
     "name": "stdout",
     "output_type": "stream",
     "text": [
      "<class 'pandas.core.frame.DataFrame'>\n",
      "RangeIndex: 3900 entries, 0 to 3899\n",
      "Data columns (total 18 columns):\n",
      " #   Column                  Non-Null Count  Dtype  \n",
      "---  ------                  --------------  -----  \n",
      " 0   Customer ID             3900 non-null   int64  \n",
      " 1   Age                     3900 non-null   int64  \n",
      " 2   Gender                  3900 non-null   object \n",
      " 3   Item Purchased          3900 non-null   object \n",
      " 4   Category                3900 non-null   object \n",
      " 5   Purchase Amount (USD)   3900 non-null   int64  \n",
      " 6   Location                3900 non-null   object \n",
      " 7   Size                    3900 non-null   object \n",
      " 8   Color                   3900 non-null   object \n",
      " 9   Season                  3900 non-null   object \n",
      " 10  Review Rating           3900 non-null   float64\n",
      " 11  Subscription Status     3900 non-null   object \n",
      " 12  Shipping Type           3900 non-null   object \n",
      " 13  Discount Applied        3900 non-null   object \n",
      " 14  Promo Code Used         3900 non-null   object \n",
      " 15  Previous Purchases      3900 non-null   int64  \n",
      " 16  Payment Method          3900 non-null   object \n",
      " 17  Frequency of Purchases  3900 non-null   object \n",
      "dtypes: float64(1), int64(4), object(13)\n",
      "memory usage: 548.6+ KB\n"
     ]
    }
   ],
   "source": [
    "df.info()"
   ]
  },
  {
   "cell_type": "markdown",
   "id": "08b1476e",
   "metadata": {},
   "source": [
    "- donute chart: shipping type, payment method?, frequency of purchases\n",
    "- sunburn chart: category, season\n",
    "- map: location\n",
    "- bar chart rating: rating 1-5\n",
    "- bar chart age: 1-100\n",
    "- bar chart purchase: age and purchase amount"
   ]
  },
  {
   "cell_type": "code",
   "execution_count": 21,
   "id": "9cd16701",
   "metadata": {},
   "outputs": [
    {
     "name": "stdout",
     "output_type": "stream",
     "text": [
      "Gender\n",
      "Male      2652\n",
      "Female    1248\n",
      "Name: count, dtype: int64\n",
      "\n",
      "\n",
      "Item Purchased\n",
      "Blouse        171\n",
      "Jewelry       171\n",
      "Pants         171\n",
      "Shirt         169\n",
      "Dress         166\n",
      "Sweater       164\n",
      "Jacket        163\n",
      "Belt          161\n",
      "Sunglasses    161\n",
      "Coat          161\n",
      "Sandals       160\n",
      "Socks         159\n",
      "Skirt         158\n",
      "Shorts        157\n",
      "Scarf         157\n",
      "Hat           154\n",
      "Handbag       153\n",
      "Hoodie        151\n",
      "Shoes         150\n",
      "T-shirt       147\n",
      "Sneakers      145\n",
      "Boots         144\n",
      "Backpack      143\n",
      "Gloves        140\n",
      "Jeans         124\n",
      "Name: count, dtype: int64\n",
      "\n",
      "\n",
      "Category\n",
      "Clothing       1737\n",
      "Accessories    1240\n",
      "Footwear        599\n",
      "Outerwear       324\n",
      "Name: count, dtype: int64\n",
      "\n",
      "\n",
      "Location\n",
      "Montana           96\n",
      "California        95\n",
      "Idaho             93\n",
      "Illinois          92\n",
      "Alabama           89\n",
      "Minnesota         88\n",
      "Nebraska          87\n",
      "New York          87\n",
      "Nevada            87\n",
      "Maryland          86\n",
      "Delaware          86\n",
      "Vermont           85\n",
      "Louisiana         84\n",
      "North Dakota      83\n",
      "Missouri          81\n",
      "West Virginia     81\n",
      "New Mexico        81\n",
      "Mississippi       80\n",
      "Indiana           79\n",
      "Georgia           79\n",
      "Kentucky          79\n",
      "Arkansas          79\n",
      "North Carolina    78\n",
      "Connecticut       78\n",
      "Virginia          77\n",
      "Ohio              77\n",
      "Tennessee         77\n",
      "Texas             77\n",
      "Maine             77\n",
      "South Carolina    76\n",
      "Colorado          75\n",
      "Oklahoma          75\n",
      "Wisconsin         75\n",
      "Oregon            74\n",
      "Pennsylvania      74\n",
      "Washington        73\n",
      "Michigan          73\n",
      "Alaska            72\n",
      "Massachusetts     72\n",
      "Wyoming           71\n",
      "Utah              71\n",
      "New Hampshire     71\n",
      "South Dakota      70\n",
      "Iowa              69\n",
      "Florida           68\n",
      "New Jersey        67\n",
      "Hawaii            65\n",
      "Arizona           65\n",
      "Kansas            63\n",
      "Rhode Island      63\n",
      "Name: count, dtype: int64\n",
      "\n",
      "\n",
      "Size\n",
      "M     1755\n",
      "L     1053\n",
      "S      663\n",
      "XL     429\n",
      "Name: count, dtype: int64\n",
      "\n",
      "\n",
      "Color\n",
      "Olive        177\n",
      "Yellow       174\n",
      "Silver       173\n",
      "Teal         172\n",
      "Green        169\n",
      "Black        167\n",
      "Cyan         166\n",
      "Violet       166\n",
      "Gray         159\n",
      "Maroon       158\n",
      "Orange       154\n",
      "Charcoal     153\n",
      "Pink         153\n",
      "Magenta      152\n",
      "Blue         152\n",
      "Purple       151\n",
      "Peach        149\n",
      "Red          148\n",
      "Beige        147\n",
      "Indigo       147\n",
      "Lavender     147\n",
      "Turquoise    145\n",
      "White        142\n",
      "Brown        141\n",
      "Gold         138\n",
      "Name: count, dtype: int64\n",
      "\n",
      "\n",
      "Season\n",
      "Spring    999\n",
      "Fall      975\n",
      "Winter    971\n",
      "Summer    955\n",
      "Name: count, dtype: int64\n",
      "\n",
      "\n",
      "Subscription Status\n",
      "No     2847\n",
      "Yes    1053\n",
      "Name: count, dtype: int64\n",
      "\n",
      "\n",
      "Shipping Type\n",
      "Free Shipping     675\n",
      "Standard          654\n",
      "Store Pickup      650\n",
      "Next Day Air      648\n",
      "Express           646\n",
      "2-Day Shipping    627\n",
      "Name: count, dtype: int64\n",
      "\n",
      "\n",
      "Discount Applied\n",
      "No     2223\n",
      "Yes    1677\n",
      "Name: count, dtype: int64\n",
      "\n",
      "\n",
      "Promo Code Used\n",
      "No     2223\n",
      "Yes    1677\n",
      "Name: count, dtype: int64\n",
      "\n",
      "\n",
      "Payment Method\n",
      "PayPal           677\n",
      "Credit Card      671\n",
      "Cash             670\n",
      "Debit Card       636\n",
      "Venmo            634\n",
      "Bank Transfer    612\n",
      "Name: count, dtype: int64\n",
      "\n",
      "\n"
     ]
    }
   ],
   "source": [
    "cat = ['Gender', 'Item Purchased', 'Category',\n",
    "       'Location', 'Size', 'Color', 'Season',\n",
    "       'Subscription Status', 'Shipping Type',\n",
    "       'Discount Applied', 'Promo Code Used',\n",
    "       'Payment Method']\n",
    "\n",
    "for i in cat:                                                  # perform a loop to see the unique values of each categorical column type\n",
    "    print(df[i].value_counts())\n",
    "    print(\"\\n\")"
   ]
  },
  {
   "cell_type": "markdown",
   "id": "91d55a9e",
   "metadata": {},
   "source": [
    "# Feature Engineering"
   ]
  },
  {
   "cell_type": "code",
   "execution_count": 22,
   "id": "c213649c",
   "metadata": {},
   "outputs": [],
   "source": [
    "df.drop(columns=\"Frequency of Purchases\", axis=1, inplace=True) # delete the frequency of purchases column because we don't use it, unless we need it for segmentation"
   ]
  },
  {
   "cell_type": "code",
   "execution_count": 23,
   "id": "989a2855",
   "metadata": {},
   "outputs": [],
   "source": [
    "df[\"Difference Amount\"] = df[\"Purchase Amount (USD)\"] - df[\"Previous Purchases\"]    # define difference amount column"
   ]
  },
  {
   "cell_type": "code",
   "execution_count": 24,
   "id": "1227117f",
   "metadata": {},
   "outputs": [],
   "source": [
    "df[\"State Code\"] = df[\"Location\"].map(                                      # Make a column from state/location abbreviation \n",
    "    lambda x: us.states.lookup(x).abbr if us.states.lookup(x) else None)"
   ]
  },
  {
   "cell_type": "code",
   "execution_count": 25,
   "id": "7b4ce684",
   "metadata": {},
   "outputs": [
    {
     "data": {
      "text/plain": [
       "Index(['Customer ID', 'Age', 'Gender', 'Item Purchased', 'Category',\n",
       "       'Purchase Amount (USD)', 'Location', 'Size', 'Color', 'Season',\n",
       "       'Review Rating', 'Subscription Status', 'Shipping Type',\n",
       "       'Discount Applied', 'Promo Code Used', 'Previous Purchases',\n",
       "       'Payment Method', 'Difference Amount', 'State Code'],\n",
       "      dtype='object')"
      ]
     },
     "execution_count": 25,
     "metadata": {},
     "output_type": "execute_result"
    }
   ],
   "source": [
    "df.columns"
   ]
  },
  {
   "cell_type": "code",
   "execution_count": 26,
   "id": "b9ebd845",
   "metadata": {},
   "outputs": [
    {
     "data": {
      "text/html": [
       "<div>\n",
       "<style scoped>\n",
       "    .dataframe tbody tr th:only-of-type {\n",
       "        vertical-align: middle;\n",
       "    }\n",
       "\n",
       "    .dataframe tbody tr th {\n",
       "        vertical-align: top;\n",
       "    }\n",
       "\n",
       "    .dataframe thead th {\n",
       "        text-align: right;\n",
       "    }\n",
       "</style>\n",
       "<table border=\"1\" class=\"dataframe\">\n",
       "  <thead>\n",
       "    <tr style=\"text-align: right;\">\n",
       "      <th></th>\n",
       "      <th>Customer ID</th>\n",
       "      <th>Age</th>\n",
       "      <th>Gender</th>\n",
       "      <th>Item Purchased</th>\n",
       "      <th>Category</th>\n",
       "      <th>Location</th>\n",
       "      <th>State Code</th>\n",
       "      <th>Size</th>\n",
       "      <th>Color</th>\n",
       "      <th>Season</th>\n",
       "      <th>Review Rating</th>\n",
       "      <th>Purchase Amount (USD)</th>\n",
       "      <th>Previous Purchases</th>\n",
       "      <th>Difference Amount</th>\n",
       "      <th>Subscription Status</th>\n",
       "      <th>Shipping Type</th>\n",
       "      <th>Discount Applied</th>\n",
       "      <th>Promo Code Used</th>\n",
       "      <th>Payment Method</th>\n",
       "    </tr>\n",
       "  </thead>\n",
       "  <tbody>\n",
       "    <tr>\n",
       "      <th>0</th>\n",
       "      <td>1</td>\n",
       "      <td>55</td>\n",
       "      <td>Male</td>\n",
       "      <td>Blouse</td>\n",
       "      <td>Clothing</td>\n",
       "      <td>Kentucky</td>\n",
       "      <td>KY</td>\n",
       "      <td>L</td>\n",
       "      <td>Gray</td>\n",
       "      <td>Winter</td>\n",
       "      <td>3.1</td>\n",
       "      <td>53</td>\n",
       "      <td>14</td>\n",
       "      <td>39</td>\n",
       "      <td>Yes</td>\n",
       "      <td>Express</td>\n",
       "      <td>Yes</td>\n",
       "      <td>Yes</td>\n",
       "      <td>Venmo</td>\n",
       "    </tr>\n",
       "    <tr>\n",
       "      <th>1</th>\n",
       "      <td>2</td>\n",
       "      <td>19</td>\n",
       "      <td>Male</td>\n",
       "      <td>Sweater</td>\n",
       "      <td>Clothing</td>\n",
       "      <td>Maine</td>\n",
       "      <td>ME</td>\n",
       "      <td>L</td>\n",
       "      <td>Maroon</td>\n",
       "      <td>Winter</td>\n",
       "      <td>3.1</td>\n",
       "      <td>64</td>\n",
       "      <td>2</td>\n",
       "      <td>62</td>\n",
       "      <td>Yes</td>\n",
       "      <td>Express</td>\n",
       "      <td>Yes</td>\n",
       "      <td>Yes</td>\n",
       "      <td>Cash</td>\n",
       "    </tr>\n",
       "    <tr>\n",
       "      <th>2</th>\n",
       "      <td>3</td>\n",
       "      <td>50</td>\n",
       "      <td>Male</td>\n",
       "      <td>Jeans</td>\n",
       "      <td>Clothing</td>\n",
       "      <td>Massachusetts</td>\n",
       "      <td>MA</td>\n",
       "      <td>S</td>\n",
       "      <td>Maroon</td>\n",
       "      <td>Spring</td>\n",
       "      <td>3.1</td>\n",
       "      <td>73</td>\n",
       "      <td>23</td>\n",
       "      <td>50</td>\n",
       "      <td>Yes</td>\n",
       "      <td>Free Shipping</td>\n",
       "      <td>Yes</td>\n",
       "      <td>Yes</td>\n",
       "      <td>Credit Card</td>\n",
       "    </tr>\n",
       "    <tr>\n",
       "      <th>3</th>\n",
       "      <td>4</td>\n",
       "      <td>21</td>\n",
       "      <td>Male</td>\n",
       "      <td>Sandals</td>\n",
       "      <td>Footwear</td>\n",
       "      <td>Rhode Island</td>\n",
       "      <td>RI</td>\n",
       "      <td>M</td>\n",
       "      <td>Maroon</td>\n",
       "      <td>Spring</td>\n",
       "      <td>3.5</td>\n",
       "      <td>90</td>\n",
       "      <td>49</td>\n",
       "      <td>41</td>\n",
       "      <td>Yes</td>\n",
       "      <td>Next Day Air</td>\n",
       "      <td>Yes</td>\n",
       "      <td>Yes</td>\n",
       "      <td>PayPal</td>\n",
       "    </tr>\n",
       "    <tr>\n",
       "      <th>4</th>\n",
       "      <td>5</td>\n",
       "      <td>45</td>\n",
       "      <td>Male</td>\n",
       "      <td>Blouse</td>\n",
       "      <td>Clothing</td>\n",
       "      <td>Oregon</td>\n",
       "      <td>OR</td>\n",
       "      <td>M</td>\n",
       "      <td>Turquoise</td>\n",
       "      <td>Spring</td>\n",
       "      <td>2.7</td>\n",
       "      <td>49</td>\n",
       "      <td>31</td>\n",
       "      <td>18</td>\n",
       "      <td>Yes</td>\n",
       "      <td>Free Shipping</td>\n",
       "      <td>Yes</td>\n",
       "      <td>Yes</td>\n",
       "      <td>PayPal</td>\n",
       "    </tr>\n",
       "  </tbody>\n",
       "</table>\n",
       "</div>"
      ],
      "text/plain": [
       "   Customer ID  Age Gender Item Purchased  Category       Location State Code  \\\n",
       "0            1   55   Male         Blouse  Clothing       Kentucky         KY   \n",
       "1            2   19   Male        Sweater  Clothing          Maine         ME   \n",
       "2            3   50   Male          Jeans  Clothing  Massachusetts         MA   \n",
       "3            4   21   Male        Sandals  Footwear   Rhode Island         RI   \n",
       "4            5   45   Male         Blouse  Clothing         Oregon         OR   \n",
       "\n",
       "  Size      Color  Season  Review Rating  Purchase Amount (USD)  \\\n",
       "0    L       Gray  Winter            3.1                     53   \n",
       "1    L     Maroon  Winter            3.1                     64   \n",
       "2    S     Maroon  Spring            3.1                     73   \n",
       "3    M     Maroon  Spring            3.5                     90   \n",
       "4    M  Turquoise  Spring            2.7                     49   \n",
       "\n",
       "   Previous Purchases  Difference Amount Subscription Status  Shipping Type  \\\n",
       "0                  14                 39                 Yes        Express   \n",
       "1                   2                 62                 Yes        Express   \n",
       "2                  23                 50                 Yes  Free Shipping   \n",
       "3                  49                 41                 Yes   Next Day Air   \n",
       "4                  31                 18                 Yes  Free Shipping   \n",
       "\n",
       "  Discount Applied Promo Code Used Payment Method  \n",
       "0              Yes             Yes          Venmo  \n",
       "1              Yes             Yes           Cash  \n",
       "2              Yes             Yes    Credit Card  \n",
       "3              Yes             Yes         PayPal  \n",
       "4              Yes             Yes         PayPal  "
      ]
     },
     "execution_count": 26,
     "metadata": {},
     "output_type": "execute_result"
    }
   ],
   "source": [
    "new_columns = ['Customer ID', 'Age', 'Gender', 'Item Purchased', 'Category',  'Location', \"State Code\",\n",
    "               'Size', 'Color', 'Season', 'Review Rating', 'Purchase Amount (USD)', \n",
    "               'Previous Purchases', 'Difference Amount', 'Subscription Status', \n",
    "               'Shipping Type', 'Discount Applied', 'Promo Code Used', 'Payment Method',\n",
    "               ]\n",
    "\n",
    "df = df.reindex(columns=new_columns)                                        # change the columns order\n",
    "df.head()"
   ]
  },
  {
   "cell_type": "markdown",
   "id": "d9d183bf",
   "metadata": {},
   "source": [
    "# Visualization"
   ]
  },
  {
   "cell_type": "code",
   "execution_count": 27,
   "id": "875ceb47",
   "metadata": {},
   "outputs": [
    {
     "data": {
      "application/vnd.plotly.v1+json": {
       "config": {
        "plotlyServerURL": "https://plot.ly"
       },
       "data": [
        {
         "coloraxis": "coloraxis",
         "customdata": [
          [
           "Alabama",
           5261,
           89,
           44.31460674157304
          ],
          [
           "Alaska",
           4867,
           72,
           43
          ],
          [
           "Arizona",
           4326,
           65,
           45.276923076923076
          ],
          [
           "Arkansas",
           4828,
           79,
           44.10126582278481
          ],
          [
           "California",
           5605,
           95,
           42.66315789473684
          ],
          [
           "Colorado",
           4222,
           75,
           44.14666666666667
          ],
          [
           "Connecticut",
           4226,
           78,
           47.32051282051282
          ],
          [
           "Delaware",
           4758,
           86,
           43.06976744186046
          ],
          [
           "Florida",
           3798,
           68,
           42.3235294117647
          ],
          [
           "Georgia",
           4645,
           79,
           43.77215189873418
          ],
          [
           "Hawaii",
           3752,
           65,
           42.69230769230769
          ],
          [
           "Idaho",
           5587,
           93,
           43.30107526881721
          ],
          [
           "Illinois",
           5617,
           92,
           43.28260869565217
          ],
          [
           "Indiana",
           4655,
           79,
           48.050632911392405
          ],
          [
           "Iowa",
           4201,
           69,
           40.17391304347826
          ],
          [
           "Kansas",
           3437,
           63,
           43.07936507936508
          ],
          [
           "Kentucky",
           4402,
           79,
           42.265822784810126
          ],
          [
           "Louisiana",
           4848,
           84,
           48.154761904761905
          ],
          [
           "Maine",
           4388,
           77,
           41.935064935064936
          ],
          [
           "Maryland",
           4795,
           86,
           46.895348837209305
          ],
          [
           "Massachusetts",
           4384,
           72,
           45.208333333333336
          ],
          [
           "Michigan",
           4533,
           73,
           42.0958904109589
          ],
          [
           "Minnesota",
           4977,
           88,
           45.47727272727273
          ],
          [
           "Mississippi",
           4883,
           80,
           43.2625
          ],
          [
           "Missouri",
           4691,
           81,
           45.74074074074074
          ],
          [
           "Montana",
           5784,
           96,
           43.822916666666664
          ],
          [
           "Nebraska",
           5172,
           87,
           42.666666666666664
          ],
          [
           "Nevada",
           5514,
           87,
           43.60919540229885
          ],
          [
           "New Hampshire",
           4219,
           71,
           44.32394366197183
          ],
          [
           "New Jersey",
           3802,
           67,
           45.02985074626866
          ],
          [
           "New Mexico",
           5014,
           81,
           44.02469135802469
          ],
          [
           "New York",
           5257,
           87,
           43.93103448275862
          ],
          [
           "North Carolina",
           4742,
           78,
           45.73076923076923
          ],
          [
           "North Dakota",
           5220,
           83,
           43.7710843373494
          ],
          [
           "Ohio",
           4649,
           77,
           46.532467532467535
          ],
          [
           "Oklahoma",
           4376,
           75,
           43.88
          ],
          [
           "Oregon",
           4243,
           74,
           43.554054054054056
          ],
          [
           "Pennsylvania",
           4926,
           74,
           42.972972972972975
          ],
          [
           "Rhode Island",
           3871,
           63,
           46.476190476190474
          ],
          [
           "South Carolina",
           4439,
           76,
           47.5
          ],
          [
           "South Dakota",
           4236,
           70,
           44.01428571428571
          ],
          [
           "Tennessee",
           4772,
           77,
           44.05194805194805
          ],
          [
           "Texas",
           4712,
           77,
           42.74025974025974
          ],
          [
           "Utah",
           4443,
           71,
           43.309859154929576
          ],
          [
           "Vermont",
           4860,
           85,
           42.6
          ],
          [
           "Virginia",
           4842,
           77,
           41.61038961038961
          ],
          [
           "Washington",
           4623,
           73,
           44.397260273972606
          ],
          [
           "West Virginia",
           5174,
           81,
           42.54320987654321
          ],
          [
           "Wisconsin",
           4196,
           75,
           45.973333333333336
          ],
          [
           "Wyoming",
           4309,
           71,
           42.50704225352113
          ]
         ],
         "geo": "geo",
         "hovertemplate": "State Code=%{location}<br>Location=%{customdata[0]}<br>Purchase Amount (USD)=%{customdata[1]:.0f}<br>Purchase Count=%{z}<br>Age (Avg)=%{customdata[3]:.1f}<extra></extra>",
         "locationmode": "USA-states",
         "locations": [
          "AL",
          "AK",
          "AZ",
          "AR",
          "CA",
          "CO",
          "CT",
          "DE",
          "FL",
          "GA",
          "HI",
          "ID",
          "IL",
          "IN",
          "IA",
          "KS",
          "KY",
          "LA",
          "ME",
          "MD",
          "MA",
          "MI",
          "MN",
          "MS",
          "MO",
          "MT",
          "NE",
          "NV",
          "NH",
          "NJ",
          "NM",
          "NY",
          "NC",
          "ND",
          "OH",
          "OK",
          "OR",
          "PA",
          "RI",
          "SC",
          "SD",
          "TN",
          "TX",
          "UT",
          "VT",
          "VA",
          "WA",
          "WV",
          "WI",
          "WY"
         ],
         "name": "",
         "type": "choropleth",
         "z": [
          89,
          72,
          65,
          79,
          95,
          75,
          78,
          86,
          68,
          79,
          65,
          93,
          92,
          79,
          69,
          63,
          79,
          84,
          77,
          86,
          72,
          73,
          88,
          80,
          81,
          96,
          87,
          87,
          71,
          67,
          81,
          87,
          78,
          83,
          77,
          75,
          74,
          74,
          63,
          76,
          70,
          77,
          77,
          71,
          85,
          77,
          73,
          81,
          75,
          71
         ]
        }
       ],
       "layout": {
        "coloraxis": {
         "colorbar": {
          "title": {
           "text": "Purchase Count"
          }
         },
         "colorscale": [
          [
           0,
           "rgb(141,211,199)"
          ],
          [
           0.09090909090909091,
           "rgb(255,255,179)"
          ],
          [
           0.18181818181818182,
           "rgb(190,186,218)"
          ],
          [
           0.2727272727272727,
           "rgb(251,128,114)"
          ],
          [
           0.36363636363636365,
           "rgb(128,177,211)"
          ],
          [
           0.45454545454545453,
           "rgb(253,180,98)"
          ],
          [
           0.5454545454545454,
           "rgb(179,222,105)"
          ],
          [
           0.6363636363636364,
           "rgb(252,205,229)"
          ],
          [
           0.7272727272727273,
           "rgb(217,217,217)"
          ],
          [
           0.8181818181818182,
           "rgb(188,128,189)"
          ],
          [
           0.9090909090909091,
           "rgb(204,235,197)"
          ],
          [
           1,
           "rgb(255,237,111)"
          ]
         ]
        },
        "geo": {
         "center": {},
         "domain": {
          "x": [
           0,
           1
          ],
          "y": [
           0,
           1
          ]
         },
         "scope": "usa"
        },
        "height": 200,
        "legend": {
         "tracegroupgap": 0
        },
        "margin": {
         "b": 0,
         "l": 0,
         "r": 0,
         "t": 0
        },
        "paper_bgcolor": "rgba(0, 0, 0, 0)",
        "plot_bgcolor": "rgba(0, 0, 0, 0)",
        "template": {
         "data": {
          "bar": [
           {
            "error_x": {
             "color": "#f2f5fa"
            },
            "error_y": {
             "color": "#f2f5fa"
            },
            "marker": {
             "line": {
              "color": "rgb(17,17,17)",
              "width": 0.5
             },
             "pattern": {
              "fillmode": "overlay",
              "size": 10,
              "solidity": 0.2
             }
            },
            "type": "bar"
           }
          ],
          "barpolar": [
           {
            "marker": {
             "line": {
              "color": "rgb(17,17,17)",
              "width": 0.5
             },
             "pattern": {
              "fillmode": "overlay",
              "size": 10,
              "solidity": 0.2
             }
            },
            "type": "barpolar"
           }
          ],
          "carpet": [
           {
            "aaxis": {
             "endlinecolor": "#A2B1C6",
             "gridcolor": "#506784",
             "linecolor": "#506784",
             "minorgridcolor": "#506784",
             "startlinecolor": "#A2B1C6"
            },
            "baxis": {
             "endlinecolor": "#A2B1C6",
             "gridcolor": "#506784",
             "linecolor": "#506784",
             "minorgridcolor": "#506784",
             "startlinecolor": "#A2B1C6"
            },
            "type": "carpet"
           }
          ],
          "choropleth": [
           {
            "colorbar": {
             "outlinewidth": 0,
             "ticks": ""
            },
            "type": "choropleth"
           }
          ],
          "contour": [
           {
            "colorbar": {
             "outlinewidth": 0,
             "ticks": ""
            },
            "colorscale": [
             [
              0,
              "#0d0887"
             ],
             [
              0.1111111111111111,
              "#46039f"
             ],
             [
              0.2222222222222222,
              "#7201a8"
             ],
             [
              0.3333333333333333,
              "#9c179e"
             ],
             [
              0.4444444444444444,
              "#bd3786"
             ],
             [
              0.5555555555555556,
              "#d8576b"
             ],
             [
              0.6666666666666666,
              "#ed7953"
             ],
             [
              0.7777777777777778,
              "#fb9f3a"
             ],
             [
              0.8888888888888888,
              "#fdca26"
             ],
             [
              1,
              "#f0f921"
             ]
            ],
            "type": "contour"
           }
          ],
          "contourcarpet": [
           {
            "colorbar": {
             "outlinewidth": 0,
             "ticks": ""
            },
            "type": "contourcarpet"
           }
          ],
          "heatmap": [
           {
            "colorbar": {
             "outlinewidth": 0,
             "ticks": ""
            },
            "colorscale": [
             [
              0,
              "#0d0887"
             ],
             [
              0.1111111111111111,
              "#46039f"
             ],
             [
              0.2222222222222222,
              "#7201a8"
             ],
             [
              0.3333333333333333,
              "#9c179e"
             ],
             [
              0.4444444444444444,
              "#bd3786"
             ],
             [
              0.5555555555555556,
              "#d8576b"
             ],
             [
              0.6666666666666666,
              "#ed7953"
             ],
             [
              0.7777777777777778,
              "#fb9f3a"
             ],
             [
              0.8888888888888888,
              "#fdca26"
             ],
             [
              1,
              "#f0f921"
             ]
            ],
            "type": "heatmap"
           }
          ],
          "heatmapgl": [
           {
            "colorbar": {
             "outlinewidth": 0,
             "ticks": ""
            },
            "colorscale": [
             [
              0,
              "#0d0887"
             ],
             [
              0.1111111111111111,
              "#46039f"
             ],
             [
              0.2222222222222222,
              "#7201a8"
             ],
             [
              0.3333333333333333,
              "#9c179e"
             ],
             [
              0.4444444444444444,
              "#bd3786"
             ],
             [
              0.5555555555555556,
              "#d8576b"
             ],
             [
              0.6666666666666666,
              "#ed7953"
             ],
             [
              0.7777777777777778,
              "#fb9f3a"
             ],
             [
              0.8888888888888888,
              "#fdca26"
             ],
             [
              1,
              "#f0f921"
             ]
            ],
            "type": "heatmapgl"
           }
          ],
          "histogram": [
           {
            "marker": {
             "pattern": {
              "fillmode": "overlay",
              "size": 10,
              "solidity": 0.2
             }
            },
            "type": "histogram"
           }
          ],
          "histogram2d": [
           {
            "colorbar": {
             "outlinewidth": 0,
             "ticks": ""
            },
            "colorscale": [
             [
              0,
              "#0d0887"
             ],
             [
              0.1111111111111111,
              "#46039f"
             ],
             [
              0.2222222222222222,
              "#7201a8"
             ],
             [
              0.3333333333333333,
              "#9c179e"
             ],
             [
              0.4444444444444444,
              "#bd3786"
             ],
             [
              0.5555555555555556,
              "#d8576b"
             ],
             [
              0.6666666666666666,
              "#ed7953"
             ],
             [
              0.7777777777777778,
              "#fb9f3a"
             ],
             [
              0.8888888888888888,
              "#fdca26"
             ],
             [
              1,
              "#f0f921"
             ]
            ],
            "type": "histogram2d"
           }
          ],
          "histogram2dcontour": [
           {
            "colorbar": {
             "outlinewidth": 0,
             "ticks": ""
            },
            "colorscale": [
             [
              0,
              "#0d0887"
             ],
             [
              0.1111111111111111,
              "#46039f"
             ],
             [
              0.2222222222222222,
              "#7201a8"
             ],
             [
              0.3333333333333333,
              "#9c179e"
             ],
             [
              0.4444444444444444,
              "#bd3786"
             ],
             [
              0.5555555555555556,
              "#d8576b"
             ],
             [
              0.6666666666666666,
              "#ed7953"
             ],
             [
              0.7777777777777778,
              "#fb9f3a"
             ],
             [
              0.8888888888888888,
              "#fdca26"
             ],
             [
              1,
              "#f0f921"
             ]
            ],
            "type": "histogram2dcontour"
           }
          ],
          "mesh3d": [
           {
            "colorbar": {
             "outlinewidth": 0,
             "ticks": ""
            },
            "type": "mesh3d"
           }
          ],
          "parcoords": [
           {
            "line": {
             "colorbar": {
              "outlinewidth": 0,
              "ticks": ""
             }
            },
            "type": "parcoords"
           }
          ],
          "pie": [
           {
            "automargin": true,
            "type": "pie"
           }
          ],
          "scatter": [
           {
            "marker": {
             "line": {
              "color": "#283442"
             }
            },
            "type": "scatter"
           }
          ],
          "scatter3d": [
           {
            "line": {
             "colorbar": {
              "outlinewidth": 0,
              "ticks": ""
             }
            },
            "marker": {
             "colorbar": {
              "outlinewidth": 0,
              "ticks": ""
             }
            },
            "type": "scatter3d"
           }
          ],
          "scattercarpet": [
           {
            "marker": {
             "colorbar": {
              "outlinewidth": 0,
              "ticks": ""
             }
            },
            "type": "scattercarpet"
           }
          ],
          "scattergeo": [
           {
            "marker": {
             "colorbar": {
              "outlinewidth": 0,
              "ticks": ""
             }
            },
            "type": "scattergeo"
           }
          ],
          "scattergl": [
           {
            "marker": {
             "line": {
              "color": "#283442"
             }
            },
            "type": "scattergl"
           }
          ],
          "scattermapbox": [
           {
            "marker": {
             "colorbar": {
              "outlinewidth": 0,
              "ticks": ""
             }
            },
            "type": "scattermapbox"
           }
          ],
          "scatterpolar": [
           {
            "marker": {
             "colorbar": {
              "outlinewidth": 0,
              "ticks": ""
             }
            },
            "type": "scatterpolar"
           }
          ],
          "scatterpolargl": [
           {
            "marker": {
             "colorbar": {
              "outlinewidth": 0,
              "ticks": ""
             }
            },
            "type": "scatterpolargl"
           }
          ],
          "scatterternary": [
           {
            "marker": {
             "colorbar": {
              "outlinewidth": 0,
              "ticks": ""
             }
            },
            "type": "scatterternary"
           }
          ],
          "surface": [
           {
            "colorbar": {
             "outlinewidth": 0,
             "ticks": ""
            },
            "colorscale": [
             [
              0,
              "#0d0887"
             ],
             [
              0.1111111111111111,
              "#46039f"
             ],
             [
              0.2222222222222222,
              "#7201a8"
             ],
             [
              0.3333333333333333,
              "#9c179e"
             ],
             [
              0.4444444444444444,
              "#bd3786"
             ],
             [
              0.5555555555555556,
              "#d8576b"
             ],
             [
              0.6666666666666666,
              "#ed7953"
             ],
             [
              0.7777777777777778,
              "#fb9f3a"
             ],
             [
              0.8888888888888888,
              "#fdca26"
             ],
             [
              1,
              "#f0f921"
             ]
            ],
            "type": "surface"
           }
          ],
          "table": [
           {
            "cells": {
             "fill": {
              "color": "#506784"
             },
             "line": {
              "color": "rgb(17,17,17)"
             }
            },
            "header": {
             "fill": {
              "color": "#2a3f5f"
             },
             "line": {
              "color": "rgb(17,17,17)"
             }
            },
            "type": "table"
           }
          ]
         },
         "layout": {
          "annotationdefaults": {
           "arrowcolor": "#f2f5fa",
           "arrowhead": 0,
           "arrowwidth": 1
          },
          "autotypenumbers": "strict",
          "coloraxis": {
           "colorbar": {
            "outlinewidth": 0,
            "ticks": ""
           }
          },
          "colorscale": {
           "diverging": [
            [
             0,
             "#8e0152"
            ],
            [
             0.1,
             "#c51b7d"
            ],
            [
             0.2,
             "#de77ae"
            ],
            [
             0.3,
             "#f1b6da"
            ],
            [
             0.4,
             "#fde0ef"
            ],
            [
             0.5,
             "#f7f7f7"
            ],
            [
             0.6,
             "#e6f5d0"
            ],
            [
             0.7,
             "#b8e186"
            ],
            [
             0.8,
             "#7fbc41"
            ],
            [
             0.9,
             "#4d9221"
            ],
            [
             1,
             "#276419"
            ]
           ],
           "sequential": [
            [
             0,
             "#0d0887"
            ],
            [
             0.1111111111111111,
             "#46039f"
            ],
            [
             0.2222222222222222,
             "#7201a8"
            ],
            [
             0.3333333333333333,
             "#9c179e"
            ],
            [
             0.4444444444444444,
             "#bd3786"
            ],
            [
             0.5555555555555556,
             "#d8576b"
            ],
            [
             0.6666666666666666,
             "#ed7953"
            ],
            [
             0.7777777777777778,
             "#fb9f3a"
            ],
            [
             0.8888888888888888,
             "#fdca26"
            ],
            [
             1,
             "#f0f921"
            ]
           ],
           "sequentialminus": [
            [
             0,
             "#0d0887"
            ],
            [
             0.1111111111111111,
             "#46039f"
            ],
            [
             0.2222222222222222,
             "#7201a8"
            ],
            [
             0.3333333333333333,
             "#9c179e"
            ],
            [
             0.4444444444444444,
             "#bd3786"
            ],
            [
             0.5555555555555556,
             "#d8576b"
            ],
            [
             0.6666666666666666,
             "#ed7953"
            ],
            [
             0.7777777777777778,
             "#fb9f3a"
            ],
            [
             0.8888888888888888,
             "#fdca26"
            ],
            [
             1,
             "#f0f921"
            ]
           ]
          },
          "colorway": [
           "#636efa",
           "#EF553B",
           "#00cc96",
           "#ab63fa",
           "#FFA15A",
           "#19d3f3",
           "#FF6692",
           "#B6E880",
           "#FF97FF",
           "#FECB52"
          ],
          "font": {
           "color": "#f2f5fa"
          },
          "geo": {
           "bgcolor": "rgb(17,17,17)",
           "lakecolor": "rgb(17,17,17)",
           "landcolor": "rgb(17,17,17)",
           "showlakes": true,
           "showland": true,
           "subunitcolor": "#506784"
          },
          "hoverlabel": {
           "align": "left"
          },
          "hovermode": "closest",
          "mapbox": {
           "style": "dark"
          },
          "paper_bgcolor": "rgb(17,17,17)",
          "plot_bgcolor": "rgb(17,17,17)",
          "polar": {
           "angularaxis": {
            "gridcolor": "#506784",
            "linecolor": "#506784",
            "ticks": ""
           },
           "bgcolor": "rgb(17,17,17)",
           "radialaxis": {
            "gridcolor": "#506784",
            "linecolor": "#506784",
            "ticks": ""
           }
          },
          "scene": {
           "xaxis": {
            "backgroundcolor": "rgb(17,17,17)",
            "gridcolor": "#506784",
            "gridwidth": 2,
            "linecolor": "#506784",
            "showbackground": true,
            "ticks": "",
            "zerolinecolor": "#C8D4E3"
           },
           "yaxis": {
            "backgroundcolor": "rgb(17,17,17)",
            "gridcolor": "#506784",
            "gridwidth": 2,
            "linecolor": "#506784",
            "showbackground": true,
            "ticks": "",
            "zerolinecolor": "#C8D4E3"
           },
           "zaxis": {
            "backgroundcolor": "rgb(17,17,17)",
            "gridcolor": "#506784",
            "gridwidth": 2,
            "linecolor": "#506784",
            "showbackground": true,
            "ticks": "",
            "zerolinecolor": "#C8D4E3"
           }
          },
          "shapedefaults": {
           "line": {
            "color": "#f2f5fa"
           }
          },
          "sliderdefaults": {
           "bgcolor": "#C8D4E3",
           "bordercolor": "rgb(17,17,17)",
           "borderwidth": 1,
           "tickwidth": 0
          },
          "ternary": {
           "aaxis": {
            "gridcolor": "#506784",
            "linecolor": "#506784",
            "ticks": ""
           },
           "baxis": {
            "gridcolor": "#506784",
            "linecolor": "#506784",
            "ticks": ""
           },
           "bgcolor": "rgb(17,17,17)",
           "caxis": {
            "gridcolor": "#506784",
            "linecolor": "#506784",
            "ticks": ""
           }
          },
          "title": {
           "x": 0.05
          },
          "updatemenudefaults": {
           "bgcolor": "#506784",
           "borderwidth": 0
          },
          "xaxis": {
           "automargin": true,
           "gridcolor": "#283442",
           "linecolor": "#506784",
           "ticks": "",
           "title": {
            "standoff": 15
           },
           "zerolinecolor": "#283442",
           "zerolinewidth": 2
          },
          "yaxis": {
           "automargin": true,
           "gridcolor": "#283442",
           "linecolor": "#506784",
           "ticks": "",
           "title": {
            "standoff": 15
           },
           "zerolinecolor": "#283442",
           "zerolinewidth": 2
          }
         }
        },
        "width": 500
       }
      }
     },
     "metadata": {},
     "output_type": "display_data"
    }
   ],
   "source": [
    "# grouping based on state location\n",
    "df_state = df.groupby([\"Location\", \"State Code\"], as_index=False).agg({\n",
    "    \"Purchase Amount (USD)\": \"sum\",\n",
    "    \"Age\": \"mean\",\n",
    "    \"Customer ID\": \"count\"\n",
    "}).rename(columns={\"Customer ID\": \"Purchase Count\"})\n",
    "\n",
    "# mapping based on state\n",
    "fig = px.choropleth(\n",
    "    data_frame=df_state,\n",
    "    locations=\"State Code\",\n",
    "    color=\"Purchase Count\",\n",
    "    locationmode=\"USA-states\",\n",
    "    scope=\"usa\",\n",
    "    color_continuous_scale=pc.qualitative.Set3,\n",
    "    hover_data={                                            # set the format to display\n",
    "        \"Location\": True,\n",
    "        \"Purchase Amount (USD)\": \":.0f\",\n",
    "        \"Purchase Count\": True,\n",
    "        \"Age\": \":.1f\"\n",
    "    },\n",
    "    labels={\"Age\": \"Age (Avg)\"}\n",
    ").update_layout(                                            # modify the layout\n",
    "        template='plotly_dark',\n",
    "        plot_bgcolor='rgba(0, 0, 0, 0)',\n",
    "        paper_bgcolor='rgba(0, 0, 0, 0)',\n",
    "        margin=dict(l=0, r=0, t=0, b=0),\n",
    "        height=200, width=500\n",
    "    )\n",
    "fig.show()"
   ]
  },
  {
   "cell_type": "code",
   "execution_count": null,
   "id": "061c5a5e",
   "metadata": {},
   "outputs": [
    {
     "data": {
      "application/vnd.plotly.v1+json": {
       "config": {
        "plotlyServerURL": "https://plot.ly"
       },
       "data": [
        {
         "branchvalues": "total",
         "customdata": [
          [
           "All",
           "",
           233081,
           44.06846153846154
          ],
          [
           "Fall",
           "",
           60018,
           44.39179487179487
          ],
          [
           "Spring",
           "",
           58679,
           44.58258258258258
          ],
          [
           "Summer",
           "",
           55777,
           43.973821989528794
          ],
          [
           "Winter",
           "",
           58607,
           43.307929969104016
          ],
          [
           "Fall",
           "Backpack",
           2008,
           41.85294117647059
          ],
          [
           "Fall",
           "Belt",
           2553,
           43.90243902439025
          ],
          [
           "Fall",
           "Blouse",
           2690,
           44.11904761904762
          ],
          [
           "Fall",
           "Boots",
           2159,
           48.34285714285714
          ],
          [
           "Fall",
           "Coat",
           2153,
           41.970588235294116
          ],
          [
           "Fall",
           "Dress",
           2446,
           42.22222222222222
          ],
          [
           "Fall",
           "Gloves",
           2266,
           45.810810810810814
          ],
          [
           "Fall",
           "Handbag",
           2782,
           41.416666666666664
          ],
          [
           "Fall",
           "Hat",
           3224,
           46.7
          ],
          [
           "Fall",
           "Hoodie",
           2085,
           45.416666666666664
          ],
          [
           "Fall",
           "Jacket",
           3106,
           44.74074074074074
          ],
          [
           "Fall",
           "Jeans",
           1992,
           47.375
          ],
          [
           "Fall",
           "Jewelry",
           2080,
           45.91428571428571
          ],
          [
           "Fall",
           "Pants",
           2176,
           47.36842105263158
          ],
          [
           "Fall",
           "Sandals",
           2741,
           43.56818181818182
          ],
          [
           "Fall",
           "Scarf",
           2595,
           46.075
          ],
          [
           "Fall",
           "Shirt",
           2596,
           43.61538461538461
          ],
          [
           "Fall",
           "Shoes",
           1658,
           47.07692307692308
          ],
          [
           "Fall",
           "Shorts",
           2378,
           44.91428571428571
          ],
          [
           "Fall",
           "Skirt",
           2573,
           45.23913043478261
          ],
          [
           "Fall",
           "Sneakers",
           2107,
           41.16129032258065
          ],
          [
           "Fall",
           "Socks",
           2259,
           42.30952380952381
          ],
          [
           "Fall",
           "Sunglasses",
           2366,
           43.05128205128205
          ],
          [
           "Fall",
           "Sweater",
           2434,
           44.285714285714285
          ],
          [
           "Fall",
           "T-shirt",
           2591,
           42.17948717948718
          ],
          [
           "Spring",
           "Backpack",
           2206,
           43.94871794871795
          ],
          [
           "Spring",
           "Belt",
           2358,
           42.46341463414634
          ],
          [
           "Spring",
           "Blouse",
           2771,
           38.80434782608695
          ],
          [
           "Spring",
           "Boots",
           2428,
           45.425
          ],
          [
           "Spring",
           "Coat",
           2436,
           45.34782608695652
          ],
          [
           "Spring",
           "Dress",
           2594,
           48.93023255813954
          ],
          [
           "Spring",
           "Gloves",
           2473,
           41.26190476190476
          ],
          [
           "Spring",
           "Handbag",
           2008,
           48.19444444444444
          ],
          [
           "Spring",
           "Hat",
           1625,
           39.77777777777778
          ],
          [
           "Spring",
           "Hoodie",
           2179,
           47.5
          ],
          [
           "Spring",
           "Jacket",
           1989,
           44.8
          ],
          [
           "Spring",
           "Jeans",
           1881,
           44.78125
          ],
          [
           "Spring",
           "Jewelry",
           2216,
           46.642857142857146
          ],
          [
           "Spring",
           "Pants",
           2029,
           39.4375
          ],
          [
           "Spring",
           "Sandals",
           2384,
           44.38636363636363
          ],
          [
           "Spring",
           "Scarf",
           2217,
           42.609756097560975
          ],
          [
           "Spring",
           "Shirt",
           2669,
           44.857142857142854
          ],
          [
           "Spring",
           "Shoes",
           2549,
           46.75
          ],
          [
           "Spring",
           "Shorts",
           2704,
           45.340425531914896
          ],
          [
           "Spring",
           "Skirt",
           2794,
           47.04347826086956
          ],
          [
           "Spring",
           "Sneakers",
           2194,
           43.58974358974359
          ],
          [
           "Spring",
           "Socks",
           2420,
           45.975
          ],
          [
           "Spring",
           "Sunglasses",
           1904,
           43.06060606060606
          ],
          [
           "Spring",
           "Sweater",
           3145,
           44.21153846153846
          ],
          [
           "Spring",
           "T-shirt",
           2506,
           47.60526315789474
          ],
          [
           "Summer",
           "Backpack",
           2780,
           42.4
          ],
          [
           "Summer",
           "Belt",
           2233,
           42.15384615384615
          ],
          [
           "Summer",
           "Blouse",
           2616,
           48.093023255813954
          ],
          [
           "Summer",
           "Boots",
           2375,
           44.5
          ],
          [
           "Summer",
           "Coat",
           2521,
           41.476190476190474
          ],
          [
           "Summer",
           "Dress",
           2745,
           43.91489361702128
          ],
          [
           "Summer",
           "Gloves",
           1733,
           44.89655172413793
          ],
          [
           "Summer",
           "Handbag",
           1990,
           46.74285714285714
          ],
          [
           "Summer",
           "Hat",
           2233,
           40.189189189189186
          ],
          [
           "Summer",
           "Hoodie",
           1653,
           43.225806451612904
          ],
          [
           "Summer",
           "Jacket",
           1757,
           45.515151515151516
          ],
          [
           "Summer",
           "Jeans",
           1842,
           43.74193548387097
          ],
          [
           "Summer",
           "Jewelry",
           3006,
           50.38297872340426
          ],
          [
           "Summer",
           "Pants",
           2886,
           43.04
          ],
          [
           "Summer",
           "Sandals",
           2123,
           43.025
          ],
          [
           "Summer",
           "Scarf",
           2759,
           45.02325581395349
          ],
          [
           "Summer",
           "Shirt",
           1965,
           38.28947368421053
          ],
          [
           "Summer",
           "Shoes",
           2781,
           46.30434782608695
          ],
          [
           "Summer",
           "Shorts",
           2221,
           43.375
          ],
          [
           "Summer",
           "Skirt",
           1589,
           42.32142857142857
          ],
          [
           "Summer",
           "Sneakers",
           2114,
           43.77777777777778
          ],
          [
           "Summer",
           "Socks",
           2403,
           44.61904761904762
          ],
          [
           "Summer",
           "Sunglasses",
           2294,
           46.91891891891892
          ],
          [
           "Summer",
           "Sweater",
           1518,
           43.57142857142857
          ],
          [
           "Summer",
           "T-shirt",
           1640,
           38.9
          ],
          [
           "Winter",
           "Backpack",
           1642,
           43.56
          ],
          [
           "Winter",
           "Belt",
           2491,
           41.2
          ],
          [
           "Winter",
           "Blouse",
           2333,
           46.675
          ],
          [
           "Winter",
           "Boots",
           2056,
           40.58064516129032
          ],
          [
           "Winter",
           "Coat",
           2165,
           43.666666666666664
          ],
          [
           "Winter",
           "Dress",
           2535,
           42.9
          ],
          [
           "Winter",
           "Gloves",
           2005,
           40.625
          ],
          [
           "Winter",
           "Handbag",
           2077,
           49.61764705882353
          ],
          [
           "Winter",
           "Hat",
           2293,
           45.275
          ],
          [
           "Winter",
           "Hoodie",
           2850,
           43.5625
          ],
          [
           "Winter",
           "Jacket",
           2397,
           46.65853658536585
          ],
          [
           "Winter",
           "Jeans",
           1833,
           38.51724137931034
          ],
          [
           "Winter",
           "Jewelry",
           2708,
           42.170212765957444
          ],
          [
           "Winter",
           "Pants",
           2999,
           43.627450980392155
          ],
          [
           "Winter",
           "Sandals",
           1952,
           46.0625
          ],
          [
           "Winter",
           "Scarf",
           1990,
           43.42424242424242
          ],
          [
           "Winter",
           "Shirt",
           3102,
           41.14
          ],
          [
           "Winter",
           "Shoes",
           2252,
           44.60526315789474
          ],
          [
           "Winter",
           "Shorts",
           2130,
           39.4
          ],
          [
           "Winter",
           "Skirt",
           2446,
           41.23684210526316
          ],
          [
           "Winter",
           "Sneakers",
           2220,
           41.717948717948715
          ],
          [
           "Winter",
           "Socks",
           2170,
           46.628571428571426
          ],
          [
           "Winter",
           "Sunglasses",
           3085,
           45.71153846153846
          ],
          [
           "Winter",
           "Sweater",
           2365,
           41.142857142857146
          ],
          [
           "Winter",
           "T-shirt",
           2511,
           41.9
          ]
         ],
         "domain": {
          "x": [
           0,
           1
          ],
          "y": [
           0,
           1
          ]
         },
         "hovertemplate": "<b>%{label}</b><br>Purchase Count: %{value}<br>Parent: %{parent}<br>Season: %{customdata[0]}<br>Item: %{customdata[1]}<br>Purchase Amount (USD): %{customdata[2]:,.0f}<br>Avg. Age: %{customdata[3]:.1f}<extra></extra>",
         "ids": [
          "All_Seasons",
          "Season__Fall",
          "Season__Spring",
          "Season__Summer",
          "Season__Winter",
          "Season__Fall__Item__Backpack",
          "Season__Fall__Item__Belt",
          "Season__Fall__Item__Blouse",
          "Season__Fall__Item__Boots",
          "Season__Fall__Item__Coat",
          "Season__Fall__Item__Dress",
          "Season__Fall__Item__Gloves",
          "Season__Fall__Item__Handbag",
          "Season__Fall__Item__Hat",
          "Season__Fall__Item__Hoodie",
          "Season__Fall__Item__Jacket",
          "Season__Fall__Item__Jeans",
          "Season__Fall__Item__Jewelry",
          "Season__Fall__Item__Pants",
          "Season__Fall__Item__Sandals",
          "Season__Fall__Item__Scarf",
          "Season__Fall__Item__Shirt",
          "Season__Fall__Item__Shoes",
          "Season__Fall__Item__Shorts",
          "Season__Fall__Item__Skirt",
          "Season__Fall__Item__Sneakers",
          "Season__Fall__Item__Socks",
          "Season__Fall__Item__Sunglasses",
          "Season__Fall__Item__Sweater",
          "Season__Fall__Item__T-shirt",
          "Season__Spring__Item__Backpack",
          "Season__Spring__Item__Belt",
          "Season__Spring__Item__Blouse",
          "Season__Spring__Item__Boots",
          "Season__Spring__Item__Coat",
          "Season__Spring__Item__Dress",
          "Season__Spring__Item__Gloves",
          "Season__Spring__Item__Handbag",
          "Season__Spring__Item__Hat",
          "Season__Spring__Item__Hoodie",
          "Season__Spring__Item__Jacket",
          "Season__Spring__Item__Jeans",
          "Season__Spring__Item__Jewelry",
          "Season__Spring__Item__Pants",
          "Season__Spring__Item__Sandals",
          "Season__Spring__Item__Scarf",
          "Season__Spring__Item__Shirt",
          "Season__Spring__Item__Shoes",
          "Season__Spring__Item__Shorts",
          "Season__Spring__Item__Skirt",
          "Season__Spring__Item__Sneakers",
          "Season__Spring__Item__Socks",
          "Season__Spring__Item__Sunglasses",
          "Season__Spring__Item__Sweater",
          "Season__Spring__Item__T-shirt",
          "Season__Summer__Item__Backpack",
          "Season__Summer__Item__Belt",
          "Season__Summer__Item__Blouse",
          "Season__Summer__Item__Boots",
          "Season__Summer__Item__Coat",
          "Season__Summer__Item__Dress",
          "Season__Summer__Item__Gloves",
          "Season__Summer__Item__Handbag",
          "Season__Summer__Item__Hat",
          "Season__Summer__Item__Hoodie",
          "Season__Summer__Item__Jacket",
          "Season__Summer__Item__Jeans",
          "Season__Summer__Item__Jewelry",
          "Season__Summer__Item__Pants",
          "Season__Summer__Item__Sandals",
          "Season__Summer__Item__Scarf",
          "Season__Summer__Item__Shirt",
          "Season__Summer__Item__Shoes",
          "Season__Summer__Item__Shorts",
          "Season__Summer__Item__Skirt",
          "Season__Summer__Item__Sneakers",
          "Season__Summer__Item__Socks",
          "Season__Summer__Item__Sunglasses",
          "Season__Summer__Item__Sweater",
          "Season__Summer__Item__T-shirt",
          "Season__Winter__Item__Backpack",
          "Season__Winter__Item__Belt",
          "Season__Winter__Item__Blouse",
          "Season__Winter__Item__Boots",
          "Season__Winter__Item__Coat",
          "Season__Winter__Item__Dress",
          "Season__Winter__Item__Gloves",
          "Season__Winter__Item__Handbag",
          "Season__Winter__Item__Hat",
          "Season__Winter__Item__Hoodie",
          "Season__Winter__Item__Jacket",
          "Season__Winter__Item__Jeans",
          "Season__Winter__Item__Jewelry",
          "Season__Winter__Item__Pants",
          "Season__Winter__Item__Sandals",
          "Season__Winter__Item__Scarf",
          "Season__Winter__Item__Shirt",
          "Season__Winter__Item__Shoes",
          "Season__Winter__Item__Shorts",
          "Season__Winter__Item__Skirt",
          "Season__Winter__Item__Sneakers",
          "Season__Winter__Item__Socks",
          "Season__Winter__Item__Sunglasses",
          "Season__Winter__Item__Sweater",
          "Season__Winter__Item__T-shirt"
         ],
         "labels": [
          "All",
          "Fall",
          "Spring",
          "Summer",
          "Winter",
          "Backpack",
          "Belt",
          "Blouse",
          "Boots",
          "Coat",
          "Dress",
          "Gloves",
          "Handbag",
          "Hat",
          "Hoodie",
          "Jacket",
          "Jeans",
          "Jewelry",
          "Pants",
          "Sandals",
          "Scarf",
          "Shirt",
          "Shoes",
          "Shorts",
          "Skirt",
          "Sneakers",
          "Socks",
          "Sunglasses",
          "Sweater",
          "T-shirt",
          "Backpack",
          "Belt",
          "Blouse",
          "Boots",
          "Coat",
          "Dress",
          "Gloves",
          "Handbag",
          "Hat",
          "Hoodie",
          "Jacket",
          "Jeans",
          "Jewelry",
          "Pants",
          "Sandals",
          "Scarf",
          "Shirt",
          "Shoes",
          "Shorts",
          "Skirt",
          "Sneakers",
          "Socks",
          "Sunglasses",
          "Sweater",
          "T-shirt",
          "Backpack",
          "Belt",
          "Blouse",
          "Boots",
          "Coat",
          "Dress",
          "Gloves",
          "Handbag",
          "Hat",
          "Hoodie",
          "Jacket",
          "Jeans",
          "Jewelry",
          "Pants",
          "Sandals",
          "Scarf",
          "Shirt",
          "Shoes",
          "Shorts",
          "Skirt",
          "Sneakers",
          "Socks",
          "Sunglasses",
          "Sweater",
          "T-shirt",
          "Backpack",
          "Belt",
          "Blouse",
          "Boots",
          "Coat",
          "Dress",
          "Gloves",
          "Handbag",
          "Hat",
          "Hoodie",
          "Jacket",
          "Jeans",
          "Jewelry",
          "Pants",
          "Sandals",
          "Scarf",
          "Shirt",
          "Shoes",
          "Shorts",
          "Skirt",
          "Sneakers",
          "Socks",
          "Sunglasses",
          "Sweater",
          "T-shirt"
         ],
         "marker": {
          "colors": [
           "rgb(141,211,199)",
           "rgb(255,255,179)",
           "rgb(190,186,218)",
           "rgb(251,128,114)",
           "rgb(128,177,211)",
           "rgb(255,255,179)",
           "rgb(255,255,179)",
           "rgb(255,255,179)",
           "rgb(255,255,179)",
           "rgb(255,255,179)",
           "rgb(255,255,179)",
           "rgb(255,255,179)",
           "rgb(255,255,179)",
           "rgb(255,255,179)",
           "rgb(255,255,179)",
           "rgb(255,255,179)",
           "rgb(255,255,179)",
           "rgb(255,255,179)",
           "rgb(255,255,179)",
           "rgb(255,255,179)",
           "rgb(255,255,179)",
           "rgb(255,255,179)",
           "rgb(255,255,179)",
           "rgb(255,255,179)",
           "rgb(255,255,179)",
           "rgb(255,255,179)",
           "rgb(255,255,179)",
           "rgb(255,255,179)",
           "rgb(255,255,179)",
           "rgb(255,255,179)",
           "rgb(190,186,218)",
           "rgb(190,186,218)",
           "rgb(190,186,218)",
           "rgb(190,186,218)",
           "rgb(190,186,218)",
           "rgb(190,186,218)",
           "rgb(190,186,218)",
           "rgb(190,186,218)",
           "rgb(190,186,218)",
           "rgb(190,186,218)",
           "rgb(190,186,218)",
           "rgb(190,186,218)",
           "rgb(190,186,218)",
           "rgb(190,186,218)",
           "rgb(190,186,218)",
           "rgb(190,186,218)",
           "rgb(190,186,218)",
           "rgb(190,186,218)",
           "rgb(190,186,218)",
           "rgb(190,186,218)",
           "rgb(190,186,218)",
           "rgb(190,186,218)",
           "rgb(190,186,218)",
           "rgb(190,186,218)",
           "rgb(190,186,218)",
           "rgb(251,128,114)",
           "rgb(251,128,114)",
           "rgb(251,128,114)",
           "rgb(251,128,114)",
           "rgb(251,128,114)",
           "rgb(251,128,114)",
           "rgb(251,128,114)",
           "rgb(251,128,114)",
           "rgb(251,128,114)",
           "rgb(251,128,114)",
           "rgb(251,128,114)",
           "rgb(251,128,114)",
           "rgb(251,128,114)",
           "rgb(251,128,114)",
           "rgb(251,128,114)",
           "rgb(251,128,114)",
           "rgb(251,128,114)",
           "rgb(251,128,114)",
           "rgb(251,128,114)",
           "rgb(251,128,114)",
           "rgb(251,128,114)",
           "rgb(251,128,114)",
           "rgb(251,128,114)",
           "rgb(251,128,114)",
           "rgb(251,128,114)",
           "rgb(128,177,211)",
           "rgb(128,177,211)",
           "rgb(128,177,211)",
           "rgb(128,177,211)",
           "rgb(128,177,211)",
           "rgb(128,177,211)",
           "rgb(128,177,211)",
           "rgb(128,177,211)",
           "rgb(128,177,211)",
           "rgb(128,177,211)",
           "rgb(128,177,211)",
           "rgb(128,177,211)",
           "rgb(128,177,211)",
           "rgb(128,177,211)",
           "rgb(128,177,211)",
           "rgb(128,177,211)",
           "rgb(128,177,211)",
           "rgb(128,177,211)",
           "rgb(128,177,211)",
           "rgb(128,177,211)",
           "rgb(128,177,211)",
           "rgb(128,177,211)",
           "rgb(128,177,211)",
           "rgb(128,177,211)",
           "rgb(128,177,211)"
          ]
         },
         "name": "",
         "parents": [
          "",
          "All_Seasons",
          "All_Seasons",
          "All_Seasons",
          "All_Seasons",
          "Season__Fall",
          "Season__Fall",
          "Season__Fall",
          "Season__Fall",
          "Season__Fall",
          "Season__Fall",
          "Season__Fall",
          "Season__Fall",
          "Season__Fall",
          "Season__Fall",
          "Season__Fall",
          "Season__Fall",
          "Season__Fall",
          "Season__Fall",
          "Season__Fall",
          "Season__Fall",
          "Season__Fall",
          "Season__Fall",
          "Season__Fall",
          "Season__Fall",
          "Season__Fall",
          "Season__Fall",
          "Season__Fall",
          "Season__Fall",
          "Season__Fall",
          "Season__Spring",
          "Season__Spring",
          "Season__Spring",
          "Season__Spring",
          "Season__Spring",
          "Season__Spring",
          "Season__Spring",
          "Season__Spring",
          "Season__Spring",
          "Season__Spring",
          "Season__Spring",
          "Season__Spring",
          "Season__Spring",
          "Season__Spring",
          "Season__Spring",
          "Season__Spring",
          "Season__Spring",
          "Season__Spring",
          "Season__Spring",
          "Season__Spring",
          "Season__Spring",
          "Season__Spring",
          "Season__Spring",
          "Season__Spring",
          "Season__Spring",
          "Season__Summer",
          "Season__Summer",
          "Season__Summer",
          "Season__Summer",
          "Season__Summer",
          "Season__Summer",
          "Season__Summer",
          "Season__Summer",
          "Season__Summer",
          "Season__Summer",
          "Season__Summer",
          "Season__Summer",
          "Season__Summer",
          "Season__Summer",
          "Season__Summer",
          "Season__Summer",
          "Season__Summer",
          "Season__Summer",
          "Season__Summer",
          "Season__Summer",
          "Season__Summer",
          "Season__Summer",
          "Season__Summer",
          "Season__Summer",
          "Season__Summer",
          "Season__Winter",
          "Season__Winter",
          "Season__Winter",
          "Season__Winter",
          "Season__Winter",
          "Season__Winter",
          "Season__Winter",
          "Season__Winter",
          "Season__Winter",
          "Season__Winter",
          "Season__Winter",
          "Season__Winter",
          "Season__Winter",
          "Season__Winter",
          "Season__Winter",
          "Season__Winter",
          "Season__Winter",
          "Season__Winter",
          "Season__Winter",
          "Season__Winter",
          "Season__Winter",
          "Season__Winter",
          "Season__Winter",
          "Season__Winter",
          "Season__Winter"
         ],
         "type": "sunburst",
         "values": [
          3900,
          975,
          999,
          955,
          971,
          34,
          41,
          42,
          35,
          34,
          36,
          37,
          48,
          50,
          36,
          54,
          32,
          35,
          38,
          44,
          40,
          39,
          26,
          35,
          46,
          31,
          42,
          39,
          42,
          39,
          39,
          41,
          46,
          40,
          46,
          43,
          42,
          36,
          27,
          36,
          35,
          32,
          42,
          32,
          44,
          41,
          42,
          40,
          47,
          46,
          39,
          40,
          33,
          52,
          38,
          45,
          39,
          43,
          38,
          42,
          47,
          29,
          35,
          37,
          31,
          33,
          31,
          47,
          50,
          40,
          43,
          38,
          46,
          40,
          28,
          36,
          42,
          37,
          28,
          30,
          25,
          40,
          40,
          31,
          39,
          40,
          32,
          34,
          40,
          48,
          41,
          29,
          47,
          51,
          32,
          33,
          50,
          38,
          35,
          38,
          39,
          35,
          52,
          42,
          40
         ]
        }
       ],
       "layout": {
        "legend": {
         "tracegroupgap": 0
        },
        "margin": {
         "b": 10,
         "l": 10,
         "r": 10,
         "t": 10
        },
        "sunburstcolorway": [
         "rgb(141,211,199)",
         "rgb(255,255,179)",
         "rgb(190,186,218)",
         "rgb(251,128,114)",
         "rgb(128,177,211)",
         "rgb(253,180,98)",
         "rgb(179,222,105)",
         "rgb(252,205,229)",
         "rgb(217,217,217)",
         "rgb(188,128,189)",
         "rgb(204,235,197)",
         "rgb(255,237,111)"
        ],
        "template": {
         "data": {
          "bar": [
           {
            "error_x": {
             "color": "#2a3f5f"
            },
            "error_y": {
             "color": "#2a3f5f"
            },
            "marker": {
             "line": {
              "color": "#E5ECF6",
              "width": 0.5
             },
             "pattern": {
              "fillmode": "overlay",
              "size": 10,
              "solidity": 0.2
             }
            },
            "type": "bar"
           }
          ],
          "barpolar": [
           {
            "marker": {
             "line": {
              "color": "#E5ECF6",
              "width": 0.5
             },
             "pattern": {
              "fillmode": "overlay",
              "size": 10,
              "solidity": 0.2
             }
            },
            "type": "barpolar"
           }
          ],
          "carpet": [
           {
            "aaxis": {
             "endlinecolor": "#2a3f5f",
             "gridcolor": "white",
             "linecolor": "white",
             "minorgridcolor": "white",
             "startlinecolor": "#2a3f5f"
            },
            "baxis": {
             "endlinecolor": "#2a3f5f",
             "gridcolor": "white",
             "linecolor": "white",
             "minorgridcolor": "white",
             "startlinecolor": "#2a3f5f"
            },
            "type": "carpet"
           }
          ],
          "choropleth": [
           {
            "colorbar": {
             "outlinewidth": 0,
             "ticks": ""
            },
            "type": "choropleth"
           }
          ],
          "contour": [
           {
            "colorbar": {
             "outlinewidth": 0,
             "ticks": ""
            },
            "colorscale": [
             [
              0,
              "#0d0887"
             ],
             [
              0.1111111111111111,
              "#46039f"
             ],
             [
              0.2222222222222222,
              "#7201a8"
             ],
             [
              0.3333333333333333,
              "#9c179e"
             ],
             [
              0.4444444444444444,
              "#bd3786"
             ],
             [
              0.5555555555555556,
              "#d8576b"
             ],
             [
              0.6666666666666666,
              "#ed7953"
             ],
             [
              0.7777777777777778,
              "#fb9f3a"
             ],
             [
              0.8888888888888888,
              "#fdca26"
             ],
             [
              1,
              "#f0f921"
             ]
            ],
            "type": "contour"
           }
          ],
          "contourcarpet": [
           {
            "colorbar": {
             "outlinewidth": 0,
             "ticks": ""
            },
            "type": "contourcarpet"
           }
          ],
          "heatmap": [
           {
            "colorbar": {
             "outlinewidth": 0,
             "ticks": ""
            },
            "colorscale": [
             [
              0,
              "#0d0887"
             ],
             [
              0.1111111111111111,
              "#46039f"
             ],
             [
              0.2222222222222222,
              "#7201a8"
             ],
             [
              0.3333333333333333,
              "#9c179e"
             ],
             [
              0.4444444444444444,
              "#bd3786"
             ],
             [
              0.5555555555555556,
              "#d8576b"
             ],
             [
              0.6666666666666666,
              "#ed7953"
             ],
             [
              0.7777777777777778,
              "#fb9f3a"
             ],
             [
              0.8888888888888888,
              "#fdca26"
             ],
             [
              1,
              "#f0f921"
             ]
            ],
            "type": "heatmap"
           }
          ],
          "heatmapgl": [
           {
            "colorbar": {
             "outlinewidth": 0,
             "ticks": ""
            },
            "colorscale": [
             [
              0,
              "#0d0887"
             ],
             [
              0.1111111111111111,
              "#46039f"
             ],
             [
              0.2222222222222222,
              "#7201a8"
             ],
             [
              0.3333333333333333,
              "#9c179e"
             ],
             [
              0.4444444444444444,
              "#bd3786"
             ],
             [
              0.5555555555555556,
              "#d8576b"
             ],
             [
              0.6666666666666666,
              "#ed7953"
             ],
             [
              0.7777777777777778,
              "#fb9f3a"
             ],
             [
              0.8888888888888888,
              "#fdca26"
             ],
             [
              1,
              "#f0f921"
             ]
            ],
            "type": "heatmapgl"
           }
          ],
          "histogram": [
           {
            "marker": {
             "pattern": {
              "fillmode": "overlay",
              "size": 10,
              "solidity": 0.2
             }
            },
            "type": "histogram"
           }
          ],
          "histogram2d": [
           {
            "colorbar": {
             "outlinewidth": 0,
             "ticks": ""
            },
            "colorscale": [
             [
              0,
              "#0d0887"
             ],
             [
              0.1111111111111111,
              "#46039f"
             ],
             [
              0.2222222222222222,
              "#7201a8"
             ],
             [
              0.3333333333333333,
              "#9c179e"
             ],
             [
              0.4444444444444444,
              "#bd3786"
             ],
             [
              0.5555555555555556,
              "#d8576b"
             ],
             [
              0.6666666666666666,
              "#ed7953"
             ],
             [
              0.7777777777777778,
              "#fb9f3a"
             ],
             [
              0.8888888888888888,
              "#fdca26"
             ],
             [
              1,
              "#f0f921"
             ]
            ],
            "type": "histogram2d"
           }
          ],
          "histogram2dcontour": [
           {
            "colorbar": {
             "outlinewidth": 0,
             "ticks": ""
            },
            "colorscale": [
             [
              0,
              "#0d0887"
             ],
             [
              0.1111111111111111,
              "#46039f"
             ],
             [
              0.2222222222222222,
              "#7201a8"
             ],
             [
              0.3333333333333333,
              "#9c179e"
             ],
             [
              0.4444444444444444,
              "#bd3786"
             ],
             [
              0.5555555555555556,
              "#d8576b"
             ],
             [
              0.6666666666666666,
              "#ed7953"
             ],
             [
              0.7777777777777778,
              "#fb9f3a"
             ],
             [
              0.8888888888888888,
              "#fdca26"
             ],
             [
              1,
              "#f0f921"
             ]
            ],
            "type": "histogram2dcontour"
           }
          ],
          "mesh3d": [
           {
            "colorbar": {
             "outlinewidth": 0,
             "ticks": ""
            },
            "type": "mesh3d"
           }
          ],
          "parcoords": [
           {
            "line": {
             "colorbar": {
              "outlinewidth": 0,
              "ticks": ""
             }
            },
            "type": "parcoords"
           }
          ],
          "pie": [
           {
            "automargin": true,
            "type": "pie"
           }
          ],
          "scatter": [
           {
            "fillpattern": {
             "fillmode": "overlay",
             "size": 10,
             "solidity": 0.2
            },
            "type": "scatter"
           }
          ],
          "scatter3d": [
           {
            "line": {
             "colorbar": {
              "outlinewidth": 0,
              "ticks": ""
             }
            },
            "marker": {
             "colorbar": {
              "outlinewidth": 0,
              "ticks": ""
             }
            },
            "type": "scatter3d"
           }
          ],
          "scattercarpet": [
           {
            "marker": {
             "colorbar": {
              "outlinewidth": 0,
              "ticks": ""
             }
            },
            "type": "scattercarpet"
           }
          ],
          "scattergeo": [
           {
            "marker": {
             "colorbar": {
              "outlinewidth": 0,
              "ticks": ""
             }
            },
            "type": "scattergeo"
           }
          ],
          "scattergl": [
           {
            "marker": {
             "colorbar": {
              "outlinewidth": 0,
              "ticks": ""
             }
            },
            "type": "scattergl"
           }
          ],
          "scattermapbox": [
           {
            "marker": {
             "colorbar": {
              "outlinewidth": 0,
              "ticks": ""
             }
            },
            "type": "scattermapbox"
           }
          ],
          "scatterpolar": [
           {
            "marker": {
             "colorbar": {
              "outlinewidth": 0,
              "ticks": ""
             }
            },
            "type": "scatterpolar"
           }
          ],
          "scatterpolargl": [
           {
            "marker": {
             "colorbar": {
              "outlinewidth": 0,
              "ticks": ""
             }
            },
            "type": "scatterpolargl"
           }
          ],
          "scatterternary": [
           {
            "marker": {
             "colorbar": {
              "outlinewidth": 0,
              "ticks": ""
             }
            },
            "type": "scatterternary"
           }
          ],
          "surface": [
           {
            "colorbar": {
             "outlinewidth": 0,
             "ticks": ""
            },
            "colorscale": [
             [
              0,
              "#0d0887"
             ],
             [
              0.1111111111111111,
              "#46039f"
             ],
             [
              0.2222222222222222,
              "#7201a8"
             ],
             [
              0.3333333333333333,
              "#9c179e"
             ],
             [
              0.4444444444444444,
              "#bd3786"
             ],
             [
              0.5555555555555556,
              "#d8576b"
             ],
             [
              0.6666666666666666,
              "#ed7953"
             ],
             [
              0.7777777777777778,
              "#fb9f3a"
             ],
             [
              0.8888888888888888,
              "#fdca26"
             ],
             [
              1,
              "#f0f921"
             ]
            ],
            "type": "surface"
           }
          ],
          "table": [
           {
            "cells": {
             "fill": {
              "color": "#EBF0F8"
             },
             "line": {
              "color": "white"
             }
            },
            "header": {
             "fill": {
              "color": "#C8D4E3"
             },
             "line": {
              "color": "white"
             }
            },
            "type": "table"
           }
          ]
         },
         "layout": {
          "annotationdefaults": {
           "arrowcolor": "#2a3f5f",
           "arrowhead": 0,
           "arrowwidth": 1
          },
          "autotypenumbers": "strict",
          "coloraxis": {
           "colorbar": {
            "outlinewidth": 0,
            "ticks": ""
           }
          },
          "colorscale": {
           "diverging": [
            [
             0,
             "#8e0152"
            ],
            [
             0.1,
             "#c51b7d"
            ],
            [
             0.2,
             "#de77ae"
            ],
            [
             0.3,
             "#f1b6da"
            ],
            [
             0.4,
             "#fde0ef"
            ],
            [
             0.5,
             "#f7f7f7"
            ],
            [
             0.6,
             "#e6f5d0"
            ],
            [
             0.7,
             "#b8e186"
            ],
            [
             0.8,
             "#7fbc41"
            ],
            [
             0.9,
             "#4d9221"
            ],
            [
             1,
             "#276419"
            ]
           ],
           "sequential": [
            [
             0,
             "#0d0887"
            ],
            [
             0.1111111111111111,
             "#46039f"
            ],
            [
             0.2222222222222222,
             "#7201a8"
            ],
            [
             0.3333333333333333,
             "#9c179e"
            ],
            [
             0.4444444444444444,
             "#bd3786"
            ],
            [
             0.5555555555555556,
             "#d8576b"
            ],
            [
             0.6666666666666666,
             "#ed7953"
            ],
            [
             0.7777777777777778,
             "#fb9f3a"
            ],
            [
             0.8888888888888888,
             "#fdca26"
            ],
            [
             1,
             "#f0f921"
            ]
           ],
           "sequentialminus": [
            [
             0,
             "#0d0887"
            ],
            [
             0.1111111111111111,
             "#46039f"
            ],
            [
             0.2222222222222222,
             "#7201a8"
            ],
            [
             0.3333333333333333,
             "#9c179e"
            ],
            [
             0.4444444444444444,
             "#bd3786"
            ],
            [
             0.5555555555555556,
             "#d8576b"
            ],
            [
             0.6666666666666666,
             "#ed7953"
            ],
            [
             0.7777777777777778,
             "#fb9f3a"
            ],
            [
             0.8888888888888888,
             "#fdca26"
            ],
            [
             1,
             "#f0f921"
            ]
           ]
          },
          "colorway": [
           "#636efa",
           "#EF553B",
           "#00cc96",
           "#ab63fa",
           "#FFA15A",
           "#19d3f3",
           "#FF6692",
           "#B6E880",
           "#FF97FF",
           "#FECB52"
          ],
          "font": {
           "color": "#2a3f5f"
          },
          "geo": {
           "bgcolor": "white",
           "lakecolor": "white",
           "landcolor": "#E5ECF6",
           "showlakes": true,
           "showland": true,
           "subunitcolor": "white"
          },
          "hoverlabel": {
           "align": "left"
          },
          "hovermode": "closest",
          "mapbox": {
           "style": "light"
          },
          "paper_bgcolor": "white",
          "plot_bgcolor": "#E5ECF6",
          "polar": {
           "angularaxis": {
            "gridcolor": "white",
            "linecolor": "white",
            "ticks": ""
           },
           "bgcolor": "#E5ECF6",
           "radialaxis": {
            "gridcolor": "white",
            "linecolor": "white",
            "ticks": ""
           }
          },
          "scene": {
           "xaxis": {
            "backgroundcolor": "#E5ECF6",
            "gridcolor": "white",
            "gridwidth": 2,
            "linecolor": "white",
            "showbackground": true,
            "ticks": "",
            "zerolinecolor": "white"
           },
           "yaxis": {
            "backgroundcolor": "#E5ECF6",
            "gridcolor": "white",
            "gridwidth": 2,
            "linecolor": "white",
            "showbackground": true,
            "ticks": "",
            "zerolinecolor": "white"
           },
           "zaxis": {
            "backgroundcolor": "#E5ECF6",
            "gridcolor": "white",
            "gridwidth": 2,
            "linecolor": "white",
            "showbackground": true,
            "ticks": "",
            "zerolinecolor": "white"
           }
          },
          "shapedefaults": {
           "line": {
            "color": "#2a3f5f"
           }
          },
          "ternary": {
           "aaxis": {
            "gridcolor": "white",
            "linecolor": "white",
            "ticks": ""
           },
           "baxis": {
            "gridcolor": "white",
            "linecolor": "white",
            "ticks": ""
           },
           "bgcolor": "#E5ECF6",
           "caxis": {
            "gridcolor": "white",
            "linecolor": "white",
            "ticks": ""
           }
          },
          "title": {
           "x": 0.05
          },
          "xaxis": {
           "automargin": true,
           "gridcolor": "white",
           "linecolor": "white",
           "ticks": "",
           "title": {
            "standoff": 15
           },
           "zerolinecolor": "white",
           "zerolinewidth": 2
          },
          "yaxis": {
           "automargin": true,
           "gridcolor": "white",
           "linecolor": "white",
           "ticks": "",
           "title": {
            "standoff": 15
           },
           "zerolinecolor": "white",
           "zerolinewidth": 2
          }
         }
        }
       }
      }
     },
     "metadata": {},
     "output_type": "display_data"
    }
   ],
   "source": [
    "# groupby by the item\n",
    "df_item = df.groupby([\"Season\", \"Item Purchased\"], as_index=False).agg({\n",
    "    \"Purchase Amount (USD)\": \"sum\",\n",
    "    \"Age\": \"mean\",\n",
    "    \"Customer ID\": \"count\"\n",
    "}).rename(columns={\"Customer ID\": \"Purchase Count\"})\n",
    "\n",
    "# groupby by the season\n",
    "df_season = df.groupby(\"Season\", as_index=False).agg({\n",
    "    \"Purchase Amount (USD)\": \"sum\",\n",
    "    \"Age\": \"mean\",\n",
    "    \"Customer ID\": \"count\"\n",
    "}).rename(columns={\"Customer ID\": \"Purchase Count\"})\n",
    "df_season[\"Item Purchased\"] = None \n",
    "\n",
    "df_season[\"id\"] = \"Season__\" + df_season[\"Season\"].astype(str)\n",
    "df_season[\"parent\"] = \"All_Seasons\"  \n",
    "\n",
    "df_item[\"id\"] = (\n",
    "    \"Season__\" + df_item[\"Season\"].astype(str) + \"__Item__\" + df_item[\"Item Purchased\"].astype(str)\n",
    ")\n",
    "df_item[\"parent\"] = \"Season__\" + df_item[\"Season\"].astype(str)\n",
    "\n",
    "root = pd.DataFrame({\n",
    "    \"Season\": [\"All\"],\n",
    "    \"Item Purchased\": [None],\n",
    "    \"Purchase Amount (USD)\": [df[\"Purchase Amount (USD)\"].sum()],\n",
    "    \"Age\": [df[\"Age\"].mean()],\n",
    "    \"Purchase Count\": [df[\"Customer ID\"].count()],\n",
    "    \"id\": [\"All_Seasons\"],\n",
    "    \"parent\": [\"\"]\n",
    "})\n",
    "\n",
    "df_sunburst = pd.concat([root, df_season, df_item], ignore_index=True)\n",
    "\n",
    "df_sunburst[\"label\"] = df_sunburst[\"Item Purchased\"].fillna(df_sunburst[\"Season\"])\n",
    "\n",
    "df_sunburst[\"id\"] = df_sunburst[\"id\"].astype(str)\n",
    "df_sunburst[\"parent\"] = df_sunburst[\"parent\"].fillna(\"\").astype(str)\n",
    "df_sunburst.loc[df_sunburst[\"parent\"] == \"\", \"parent\"] = \"\"  \n",
    "\n",
    "df_sunburst[\"Season_str\"] = df_sunburst[\"Season\"].fillna(\"\").astype(str)\n",
    "df_sunburst[\"Item_str\"] = df_sunburst[\"Item Purchased\"].fillna(\"\").astype(str)\n",
    "custom = df_sunburst[[\"Season_str\", \"Item_str\", \"Purchase Amount (USD)\", \"Age\"]].values\n",
    "\n",
    "fig = px.sunburst(\n",
    "    df_sunburst,\n",
    "    ids=\"id\",\n",
    "    parents=\"parent\",\n",
    "    names=\"label\",          \n",
    "    values=\"Purchase Count\",\n",
    "    color=\"Season\",         \n",
    "    hover_data={\n",
    "        \"Season\": True,\n",
    "        \"Item Purchased\": True,\n",
    "        \"Purchase Amount (USD)\": \":.0f\",\n",
    "        \"Purchase Count\": True,\n",
    "        \"Age\": \":.1f\"\n",
    "    },\n",
    "    branchvalues=\"total\",\n",
    "    color_discrete_sequence=pc.qualitative.Set3\n",
    ")\n",
    "\n",
    "fig.update_traces(\n",
    "    customdata=custom,\n",
    "    hovertemplate=(\n",
    "        \"<b>%{label}</b><br>\"                              # display item/season label\n",
    "        \"Purchase Count: %{value}<br>\"                     # always show count\n",
    "        \"Parent: %{parent}<br>\"                            # parent id \n",
    "        \"Season: %{customdata[0]}<br>\"                     # season string \n",
    "        \"Item: %{customdata[1]}<br>\"                       # item string \n",
    "        \"Purchase Amount (USD): %{customdata[2]:,.0f}<br>\" \n",
    "        \"Avg. Age: %{customdata[3]:.1f}<extra></extra>\"\n",
    "    )\n",
    ")\n",
    "\n",
    "fig.update_layout(margin=dict(t=10, l=10, r=10, b=10))\n",
    "fig.show()\n"
   ]
  },
  {
   "cell_type": "code",
   "execution_count": 31,
   "id": "624b7eff",
   "metadata": {},
   "outputs": [
    {
     "data": {
      "application/vnd.plotly.v1+json": {
       "config": {
        "plotlyServerURL": "https://plot.ly"
       },
       "data": [
        {
         "alignmentgroup": "True",
         "hovertemplate": "Gender=Female<br>Age=%{x}<br>Purchase Amount (USD)=%{y}<extra></extra>",
         "legendgroup": "Female",
         "marker": {
          "color": "rgb(27,158,119)",
          "pattern": {
           "shape": ""
          }
         },
         "name": "Female",
         "offsetgroup": "Female",
         "orientation": "v",
         "showlegend": true,
         "textposition": "auto",
         "type": "bar",
         "x": [
          18,
          19,
          20,
          21,
          22,
          23,
          24,
          25,
          26,
          27,
          28,
          29,
          30,
          31,
          32,
          33,
          34,
          35,
          36,
          37,
          38,
          39,
          40,
          41,
          42,
          43,
          44,
          45,
          46,
          47,
          48,
          49,
          50,
          51,
          52,
          53,
          54,
          55,
          56,
          57,
          58,
          59,
          60,
          61,
          62,
          63,
          64,
          65,
          66,
          67,
          68,
          69,
          70
         ],
         "xaxis": "x",
         "y": [
          1194,
          1675,
          747,
          1198,
          1744,
          1239,
          1383,
          1356,
          1540,
          1568,
          1920,
          1437,
          1334,
          1807,
          1435,
          1368,
          1208,
          1402,
          1403,
          1101,
          1439,
          1499,
          1298,
          1257,
          1300,
          1626,
          1423,
          2048,
          1460,
          1392,
          1312,
          1411,
          1782,
          1300,
          1858,
          1462,
          953,
          1550,
          1257,
          2021,
          1398,
          982,
          981,
          1601,
          2007,
          1641,
          1287,
          1473,
          1257,
          680,
          1272,
          1596,
          1309
         ],
         "yaxis": "y"
        },
        {
         "alignmentgroup": "True",
         "hovertemplate": "Gender=Male<br>Age=%{x}<br>Purchase Amount (USD)=%{y}<extra></extra>",
         "legendgroup": "Male",
         "marker": {
          "color": "rgb(217,95,2)",
          "pattern": {
           "shape": ""
          }
         },
         "name": "Male",
         "offsetgroup": "Male",
         "orientation": "v",
         "showlegend": true,
         "textposition": "auto",
         "type": "bar",
         "x": [
          18,
          19,
          20,
          21,
          22,
          23,
          24,
          25,
          26,
          27,
          28,
          29,
          30,
          31,
          32,
          33,
          34,
          35,
          36,
          37,
          38,
          39,
          40,
          41,
          42,
          43,
          44,
          45,
          46,
          47,
          48,
          49,
          50,
          51,
          52,
          53,
          54,
          55,
          56,
          57,
          58,
          59,
          60,
          61,
          62,
          63,
          64,
          65,
          66,
          67,
          68,
          69,
          70
         ],
         "xaxis": "x",
         "y": [
          2945,
          3266,
          2677,
          3225,
          2267,
          2790,
          2908,
          4016,
          2672,
          2892,
          3184,
          3062,
          3040,
          3057,
          3361,
          2592,
          2551,
          2912,
          3108,
          3636,
          2730,
          2558,
          2728,
          4025,
          3057,
          3072,
          1889,
          2037,
          2858,
          2627,
          2264,
          4141,
          3148,
          3301,
          2397,
          3290,
          4329,
          2784,
          3036,
          3179,
          3123,
          3366,
          2749,
          2571,
          2802,
          2878,
          2883,
          3117,
          2808,
          2578,
          3015,
          3888,
          2501
         ],
         "yaxis": "y"
        },
        {
         "line": {
          "color": "orange",
          "width": 3
         },
         "mode": "lines+markers",
         "name": "Previous Purchases",
         "type": "scatter",
         "x": [
          18,
          18,
          19,
          19,
          20,
          20,
          21,
          21,
          22,
          22,
          23,
          23,
          24,
          24,
          25,
          25,
          26,
          26,
          27,
          27,
          28,
          28,
          29,
          29,
          30,
          30,
          31,
          31,
          32,
          32,
          33,
          33,
          34,
          34,
          35,
          35,
          36,
          36,
          37,
          37,
          38,
          38,
          39,
          39,
          40,
          40,
          41,
          41,
          42,
          42,
          43,
          43,
          44,
          44,
          45,
          45,
          46,
          46,
          47,
          47,
          48,
          48,
          49,
          49,
          50,
          50,
          51,
          51,
          52,
          52,
          53,
          53,
          54,
          54,
          55,
          55,
          56,
          56,
          57,
          57,
          58,
          58,
          59,
          59,
          60,
          60,
          61,
          61,
          62,
          62,
          63,
          63,
          64,
          64,
          65,
          65,
          66,
          66,
          67,
          67,
          68,
          68,
          69,
          69,
          70,
          70
         ],
         "y": [
          364,
          1087,
          683,
          1300,
          209,
          1233,
          443,
          1207,
          771,
          987,
          556,
          1224,
          466,
          1243,
          565,
          1728,
          661,
          986,
          760,
          1318,
          736,
          1185,
          640,
          1330,
          533,
          1336,
          716,
          1202,
          510,
          1587,
          473,
          955,
          502,
          1179,
          522,
          1241,
          650,
          1244,
          507,
          1480,
          680,
          1071,
          569,
          1054,
          660,
          1334,
          448,
          1700,
          600,
          1648,
          517,
          1297,
          655,
          695,
          649,
          891,
          697,
          1173,
          531,
          1053,
          650,
          998,
          548,
          1689,
          602,
          1370,
          430,
          1471,
          988,
          1112,
          450,
          1380,
          413,
          1649,
          675,
          1262,
          607,
          1392,
          958,
          1536,
          695,
          1378,
          306,
          1533,
          508,
          1192,
          656,
          1087,
          715,
          1380,
          520,
          1268,
          469,
          1475,
          596,
          1390,
          592,
          1305,
          388,
          1043,
          598,
          1406,
          634,
          1674,
          425,
          1217
         ],
         "yaxis": "y2"
        }
       ],
       "layout": {
        "barmode": "relative",
        "legend": {
         "orientation": "h",
         "title": {
          "text": "Legend"
         },
         "tracegroupgap": 0,
         "x": 0.5,
         "xanchor": "center",
         "y": 1.05,
         "yanchor": "bottom"
        },
        "template": {
         "data": {
          "bar": [
           {
            "error_x": {
             "color": "#2a3f5f"
            },
            "error_y": {
             "color": "#2a3f5f"
            },
            "marker": {
             "line": {
              "color": "white",
              "width": 0.5
             },
             "pattern": {
              "fillmode": "overlay",
              "size": 10,
              "solidity": 0.2
             }
            },
            "type": "bar"
           }
          ],
          "barpolar": [
           {
            "marker": {
             "line": {
              "color": "white",
              "width": 0.5
             },
             "pattern": {
              "fillmode": "overlay",
              "size": 10,
              "solidity": 0.2
             }
            },
            "type": "barpolar"
           }
          ],
          "carpet": [
           {
            "aaxis": {
             "endlinecolor": "#2a3f5f",
             "gridcolor": "#C8D4E3",
             "linecolor": "#C8D4E3",
             "minorgridcolor": "#C8D4E3",
             "startlinecolor": "#2a3f5f"
            },
            "baxis": {
             "endlinecolor": "#2a3f5f",
             "gridcolor": "#C8D4E3",
             "linecolor": "#C8D4E3",
             "minorgridcolor": "#C8D4E3",
             "startlinecolor": "#2a3f5f"
            },
            "type": "carpet"
           }
          ],
          "choropleth": [
           {
            "colorbar": {
             "outlinewidth": 0,
             "ticks": ""
            },
            "type": "choropleth"
           }
          ],
          "contour": [
           {
            "colorbar": {
             "outlinewidth": 0,
             "ticks": ""
            },
            "colorscale": [
             [
              0,
              "#0d0887"
             ],
             [
              0.1111111111111111,
              "#46039f"
             ],
             [
              0.2222222222222222,
              "#7201a8"
             ],
             [
              0.3333333333333333,
              "#9c179e"
             ],
             [
              0.4444444444444444,
              "#bd3786"
             ],
             [
              0.5555555555555556,
              "#d8576b"
             ],
             [
              0.6666666666666666,
              "#ed7953"
             ],
             [
              0.7777777777777778,
              "#fb9f3a"
             ],
             [
              0.8888888888888888,
              "#fdca26"
             ],
             [
              1,
              "#f0f921"
             ]
            ],
            "type": "contour"
           }
          ],
          "contourcarpet": [
           {
            "colorbar": {
             "outlinewidth": 0,
             "ticks": ""
            },
            "type": "contourcarpet"
           }
          ],
          "heatmap": [
           {
            "colorbar": {
             "outlinewidth": 0,
             "ticks": ""
            },
            "colorscale": [
             [
              0,
              "#0d0887"
             ],
             [
              0.1111111111111111,
              "#46039f"
             ],
             [
              0.2222222222222222,
              "#7201a8"
             ],
             [
              0.3333333333333333,
              "#9c179e"
             ],
             [
              0.4444444444444444,
              "#bd3786"
             ],
             [
              0.5555555555555556,
              "#d8576b"
             ],
             [
              0.6666666666666666,
              "#ed7953"
             ],
             [
              0.7777777777777778,
              "#fb9f3a"
             ],
             [
              0.8888888888888888,
              "#fdca26"
             ],
             [
              1,
              "#f0f921"
             ]
            ],
            "type": "heatmap"
           }
          ],
          "heatmapgl": [
           {
            "colorbar": {
             "outlinewidth": 0,
             "ticks": ""
            },
            "colorscale": [
             [
              0,
              "#0d0887"
             ],
             [
              0.1111111111111111,
              "#46039f"
             ],
             [
              0.2222222222222222,
              "#7201a8"
             ],
             [
              0.3333333333333333,
              "#9c179e"
             ],
             [
              0.4444444444444444,
              "#bd3786"
             ],
             [
              0.5555555555555556,
              "#d8576b"
             ],
             [
              0.6666666666666666,
              "#ed7953"
             ],
             [
              0.7777777777777778,
              "#fb9f3a"
             ],
             [
              0.8888888888888888,
              "#fdca26"
             ],
             [
              1,
              "#f0f921"
             ]
            ],
            "type": "heatmapgl"
           }
          ],
          "histogram": [
           {
            "marker": {
             "pattern": {
              "fillmode": "overlay",
              "size": 10,
              "solidity": 0.2
             }
            },
            "type": "histogram"
           }
          ],
          "histogram2d": [
           {
            "colorbar": {
             "outlinewidth": 0,
             "ticks": ""
            },
            "colorscale": [
             [
              0,
              "#0d0887"
             ],
             [
              0.1111111111111111,
              "#46039f"
             ],
             [
              0.2222222222222222,
              "#7201a8"
             ],
             [
              0.3333333333333333,
              "#9c179e"
             ],
             [
              0.4444444444444444,
              "#bd3786"
             ],
             [
              0.5555555555555556,
              "#d8576b"
             ],
             [
              0.6666666666666666,
              "#ed7953"
             ],
             [
              0.7777777777777778,
              "#fb9f3a"
             ],
             [
              0.8888888888888888,
              "#fdca26"
             ],
             [
              1,
              "#f0f921"
             ]
            ],
            "type": "histogram2d"
           }
          ],
          "histogram2dcontour": [
           {
            "colorbar": {
             "outlinewidth": 0,
             "ticks": ""
            },
            "colorscale": [
             [
              0,
              "#0d0887"
             ],
             [
              0.1111111111111111,
              "#46039f"
             ],
             [
              0.2222222222222222,
              "#7201a8"
             ],
             [
              0.3333333333333333,
              "#9c179e"
             ],
             [
              0.4444444444444444,
              "#bd3786"
             ],
             [
              0.5555555555555556,
              "#d8576b"
             ],
             [
              0.6666666666666666,
              "#ed7953"
             ],
             [
              0.7777777777777778,
              "#fb9f3a"
             ],
             [
              0.8888888888888888,
              "#fdca26"
             ],
             [
              1,
              "#f0f921"
             ]
            ],
            "type": "histogram2dcontour"
           }
          ],
          "mesh3d": [
           {
            "colorbar": {
             "outlinewidth": 0,
             "ticks": ""
            },
            "type": "mesh3d"
           }
          ],
          "parcoords": [
           {
            "line": {
             "colorbar": {
              "outlinewidth": 0,
              "ticks": ""
             }
            },
            "type": "parcoords"
           }
          ],
          "pie": [
           {
            "automargin": true,
            "type": "pie"
           }
          ],
          "scatter": [
           {
            "fillpattern": {
             "fillmode": "overlay",
             "size": 10,
             "solidity": 0.2
            },
            "type": "scatter"
           }
          ],
          "scatter3d": [
           {
            "line": {
             "colorbar": {
              "outlinewidth": 0,
              "ticks": ""
             }
            },
            "marker": {
             "colorbar": {
              "outlinewidth": 0,
              "ticks": ""
             }
            },
            "type": "scatter3d"
           }
          ],
          "scattercarpet": [
           {
            "marker": {
             "colorbar": {
              "outlinewidth": 0,
              "ticks": ""
             }
            },
            "type": "scattercarpet"
           }
          ],
          "scattergeo": [
           {
            "marker": {
             "colorbar": {
              "outlinewidth": 0,
              "ticks": ""
             }
            },
            "type": "scattergeo"
           }
          ],
          "scattergl": [
           {
            "marker": {
             "colorbar": {
              "outlinewidth": 0,
              "ticks": ""
             }
            },
            "type": "scattergl"
           }
          ],
          "scattermapbox": [
           {
            "marker": {
             "colorbar": {
              "outlinewidth": 0,
              "ticks": ""
             }
            },
            "type": "scattermapbox"
           }
          ],
          "scatterpolar": [
           {
            "marker": {
             "colorbar": {
              "outlinewidth": 0,
              "ticks": ""
             }
            },
            "type": "scatterpolar"
           }
          ],
          "scatterpolargl": [
           {
            "marker": {
             "colorbar": {
              "outlinewidth": 0,
              "ticks": ""
             }
            },
            "type": "scatterpolargl"
           }
          ],
          "scatterternary": [
           {
            "marker": {
             "colorbar": {
              "outlinewidth": 0,
              "ticks": ""
             }
            },
            "type": "scatterternary"
           }
          ],
          "surface": [
           {
            "colorbar": {
             "outlinewidth": 0,
             "ticks": ""
            },
            "colorscale": [
             [
              0,
              "#0d0887"
             ],
             [
              0.1111111111111111,
              "#46039f"
             ],
             [
              0.2222222222222222,
              "#7201a8"
             ],
             [
              0.3333333333333333,
              "#9c179e"
             ],
             [
              0.4444444444444444,
              "#bd3786"
             ],
             [
              0.5555555555555556,
              "#d8576b"
             ],
             [
              0.6666666666666666,
              "#ed7953"
             ],
             [
              0.7777777777777778,
              "#fb9f3a"
             ],
             [
              0.8888888888888888,
              "#fdca26"
             ],
             [
              1,
              "#f0f921"
             ]
            ],
            "type": "surface"
           }
          ],
          "table": [
           {
            "cells": {
             "fill": {
              "color": "#EBF0F8"
             },
             "line": {
              "color": "white"
             }
            },
            "header": {
             "fill": {
              "color": "#C8D4E3"
             },
             "line": {
              "color": "white"
             }
            },
            "type": "table"
           }
          ]
         },
         "layout": {
          "annotationdefaults": {
           "arrowcolor": "#2a3f5f",
           "arrowhead": 0,
           "arrowwidth": 1
          },
          "autotypenumbers": "strict",
          "coloraxis": {
           "colorbar": {
            "outlinewidth": 0,
            "ticks": ""
           }
          },
          "colorscale": {
           "diverging": [
            [
             0,
             "#8e0152"
            ],
            [
             0.1,
             "#c51b7d"
            ],
            [
             0.2,
             "#de77ae"
            ],
            [
             0.3,
             "#f1b6da"
            ],
            [
             0.4,
             "#fde0ef"
            ],
            [
             0.5,
             "#f7f7f7"
            ],
            [
             0.6,
             "#e6f5d0"
            ],
            [
             0.7,
             "#b8e186"
            ],
            [
             0.8,
             "#7fbc41"
            ],
            [
             0.9,
             "#4d9221"
            ],
            [
             1,
             "#276419"
            ]
           ],
           "sequential": [
            [
             0,
             "#0d0887"
            ],
            [
             0.1111111111111111,
             "#46039f"
            ],
            [
             0.2222222222222222,
             "#7201a8"
            ],
            [
             0.3333333333333333,
             "#9c179e"
            ],
            [
             0.4444444444444444,
             "#bd3786"
            ],
            [
             0.5555555555555556,
             "#d8576b"
            ],
            [
             0.6666666666666666,
             "#ed7953"
            ],
            [
             0.7777777777777778,
             "#fb9f3a"
            ],
            [
             0.8888888888888888,
             "#fdca26"
            ],
            [
             1,
             "#f0f921"
            ]
           ],
           "sequentialminus": [
            [
             0,
             "#0d0887"
            ],
            [
             0.1111111111111111,
             "#46039f"
            ],
            [
             0.2222222222222222,
             "#7201a8"
            ],
            [
             0.3333333333333333,
             "#9c179e"
            ],
            [
             0.4444444444444444,
             "#bd3786"
            ],
            [
             0.5555555555555556,
             "#d8576b"
            ],
            [
             0.6666666666666666,
             "#ed7953"
            ],
            [
             0.7777777777777778,
             "#fb9f3a"
            ],
            [
             0.8888888888888888,
             "#fdca26"
            ],
            [
             1,
             "#f0f921"
            ]
           ]
          },
          "colorway": [
           "#636efa",
           "#EF553B",
           "#00cc96",
           "#ab63fa",
           "#FFA15A",
           "#19d3f3",
           "#FF6692",
           "#B6E880",
           "#FF97FF",
           "#FECB52"
          ],
          "font": {
           "color": "#2a3f5f"
          },
          "geo": {
           "bgcolor": "white",
           "lakecolor": "white",
           "landcolor": "white",
           "showlakes": true,
           "showland": true,
           "subunitcolor": "#C8D4E3"
          },
          "hoverlabel": {
           "align": "left"
          },
          "hovermode": "closest",
          "mapbox": {
           "style": "light"
          },
          "paper_bgcolor": "white",
          "plot_bgcolor": "white",
          "polar": {
           "angularaxis": {
            "gridcolor": "#EBF0F8",
            "linecolor": "#EBF0F8",
            "ticks": ""
           },
           "bgcolor": "white",
           "radialaxis": {
            "gridcolor": "#EBF0F8",
            "linecolor": "#EBF0F8",
            "ticks": ""
           }
          },
          "scene": {
           "xaxis": {
            "backgroundcolor": "white",
            "gridcolor": "#DFE8F3",
            "gridwidth": 2,
            "linecolor": "#EBF0F8",
            "showbackground": true,
            "ticks": "",
            "zerolinecolor": "#EBF0F8"
           },
           "yaxis": {
            "backgroundcolor": "white",
            "gridcolor": "#DFE8F3",
            "gridwidth": 2,
            "linecolor": "#EBF0F8",
            "showbackground": true,
            "ticks": "",
            "zerolinecolor": "#EBF0F8"
           },
           "zaxis": {
            "backgroundcolor": "white",
            "gridcolor": "#DFE8F3",
            "gridwidth": 2,
            "linecolor": "#EBF0F8",
            "showbackground": true,
            "ticks": "",
            "zerolinecolor": "#EBF0F8"
           }
          },
          "shapedefaults": {
           "line": {
            "color": "#2a3f5f"
           }
          },
          "ternary": {
           "aaxis": {
            "gridcolor": "#DFE8F3",
            "linecolor": "#A2B1C6",
            "ticks": ""
           },
           "baxis": {
            "gridcolor": "#DFE8F3",
            "linecolor": "#A2B1C6",
            "ticks": ""
           },
           "bgcolor": "white",
           "caxis": {
            "gridcolor": "#DFE8F3",
            "linecolor": "#A2B1C6",
            "ticks": ""
           }
          },
          "title": {
           "x": 0.05
          },
          "xaxis": {
           "automargin": true,
           "gridcolor": "#EBF0F8",
           "linecolor": "#EBF0F8",
           "ticks": "",
           "title": {
            "standoff": 15
           },
           "zerolinecolor": "#EBF0F8",
           "zerolinewidth": 2
          },
          "yaxis": {
           "automargin": true,
           "gridcolor": "#EBF0F8",
           "linecolor": "#EBF0F8",
           "ticks": "",
           "title": {
            "standoff": 15
           },
           "zerolinecolor": "#EBF0F8",
           "zerolinewidth": 2
          }
         }
        },
        "title": {
         "text": "Total Purchase vs Previous Purchase by Age"
        },
        "xaxis": {
         "anchor": "y",
         "domain": [
          0,
          1
         ],
         "title": {
          "text": "Age"
         }
        },
        "yaxis": {
         "anchor": "x",
         "domain": [
          0,
          1
         ],
         "title": {
          "text": "Total Purchase Amount (USD)"
         }
        },
        "yaxis2": {
         "overlaying": "y",
         "showgrid": false,
         "side": "right",
         "title": {
          "text": "Previous Purchase (USD)"
         }
        }
       }
      }
     },
     "metadata": {},
     "output_type": "display_data"
    }
   ],
   "source": [
    "\n",
    "df_sum = df.groupby([\"Age\", \"Gender\"], as_index=False).agg({\n",
    "    \"Purchase Amount (USD)\": \"sum\",\n",
    "    \"Previous Purchases\": \"sum\"\n",
    "})\n",
    "\n",
    "fig = px.bar(\n",
    "    df_sum,\n",
    "    x=\"Age\",\n",
    "    y=\"Purchase Amount (USD)\",\n",
    "    color=\"Gender\",\n",
    "    color_discrete_sequence=pc.qualitative.Dark2,\n",
    "    title=\"Total Purchase vs Previous Purchase by Age\"\n",
    ")\n",
    "\n",
    "fig.add_trace(go.Scatter(\n",
    "    x=df_sum[\"Age\"],\n",
    "    y=df_sum[\"Previous Purchases\"],\n",
    "    name=\"Previous Purchases\",\n",
    "    mode=\"lines+markers\",\n",
    "    line=dict(color=\"orange\", width=3),\n",
    "    yaxis=\"y2\"  # pakai sumbu kanan\n",
    "))\n",
    "\n",
    "fig.update_layout(\n",
    "    template=\"plotly_white\",\n",
    "    xaxis=dict(title=\"Age\"),\n",
    "    yaxis=dict(title=\"Total Purchase Amount (USD)\"),\n",
    "    yaxis2=dict(\n",
    "        title=\"Previous Purchase (USD)\",\n",
    "        overlaying=\"y\",\n",
    "        side=\"right\",\n",
    "        showgrid=False\n",
    "    ),\n",
    "    legend=dict(\n",
    "        title=\"Legend\",\n",
    "        orientation=\"h\",\n",
    "        yanchor=\"bottom\",\n",
    "        y=1.05,\n",
    "        xanchor=\"center\",\n",
    "        x=0.5\n",
    "    )\n",
    ")\n",
    "\n",
    "fig.show()"
   ]
  },
  {
   "cell_type": "code",
   "execution_count": 32,
   "id": "696ae909",
   "metadata": {},
   "outputs": [
    {
     "data": {
      "application/vnd.plotly.v1+json": {
       "config": {
        "plotlyServerURL": "https://plot.ly"
       },
       "data": [
        {
         "alignmentgroup": "True",
         "hovertemplate": "Review Rating=%{x}<br>Count=%{text}<extra></extra>",
         "legendgroup": "",
         "marker": {
          "color": "#636EFA",
          "pattern": {
           "shape": ""
          }
         },
         "name": "",
         "offsetgroup": "",
         "orientation": "v",
         "showlegend": false,
         "text": [
          66,
          159,
          154,
          136,
          170,
          162,
          157,
          152,
          152,
          182,
          156,
          149,
          156,
          142,
          163,
          181,
          148,
          171,
          147,
          158,
          139,
          174,
          148,
          144,
          166,
          68
         ],
         "textposition": "outside",
         "type": "bar",
         "x": [
          2.5,
          2.6,
          2.7,
          2.8,
          2.9,
          3,
          3.1,
          3.2,
          3.3,
          3.4,
          3.5,
          3.6,
          3.7,
          3.8,
          3.9,
          4,
          4.1,
          4.2,
          4.3,
          4.4,
          4.5,
          4.6,
          4.7,
          4.8,
          4.9,
          5
         ],
         "xaxis": "x",
         "y": [
          66,
          159,
          154,
          136,
          170,
          162,
          157,
          152,
          152,
          182,
          156,
          149,
          156,
          142,
          163,
          181,
          148,
          171,
          147,
          158,
          139,
          174,
          148,
          144,
          166,
          68
         ],
         "yaxis": "y"
        }
       ],
       "layout": {
        "annotations": [
         {
          "font": {
           "color": "red",
           "size": 12
          },
          "showarrow": false,
          "text": "Avg: 3.75",
          "x": 3.7499487179487176,
          "y": 182,
          "yshift": 10
         }
        ],
        "barmode": "relative",
        "legend": {
         "tracegroupgap": 0
        },
        "margin": {
         "t": 60
        },
        "shapes": [
         {
          "line": {
           "color": "red",
           "dash": "dash",
           "width": 3
          },
          "name": "Average Rating",
          "type": "line",
          "x0": 3.7499487179487176,
          "x1": 3.7499487179487176,
          "y0": 0,
          "y1": 182
         }
        ],
        "template": {
         "data": {
          "bar": [
           {
            "error_x": {
             "color": "#2a3f5f"
            },
            "error_y": {
             "color": "#2a3f5f"
            },
            "marker": {
             "line": {
              "color": "white",
              "width": 0.5
             },
             "pattern": {
              "fillmode": "overlay",
              "size": 10,
              "solidity": 0.2
             }
            },
            "type": "bar"
           }
          ],
          "barpolar": [
           {
            "marker": {
             "line": {
              "color": "white",
              "width": 0.5
             },
             "pattern": {
              "fillmode": "overlay",
              "size": 10,
              "solidity": 0.2
             }
            },
            "type": "barpolar"
           }
          ],
          "carpet": [
           {
            "aaxis": {
             "endlinecolor": "#2a3f5f",
             "gridcolor": "#C8D4E3",
             "linecolor": "#C8D4E3",
             "minorgridcolor": "#C8D4E3",
             "startlinecolor": "#2a3f5f"
            },
            "baxis": {
             "endlinecolor": "#2a3f5f",
             "gridcolor": "#C8D4E3",
             "linecolor": "#C8D4E3",
             "minorgridcolor": "#C8D4E3",
             "startlinecolor": "#2a3f5f"
            },
            "type": "carpet"
           }
          ],
          "choropleth": [
           {
            "colorbar": {
             "outlinewidth": 0,
             "ticks": ""
            },
            "type": "choropleth"
           }
          ],
          "contour": [
           {
            "colorbar": {
             "outlinewidth": 0,
             "ticks": ""
            },
            "colorscale": [
             [
              0,
              "#0d0887"
             ],
             [
              0.1111111111111111,
              "#46039f"
             ],
             [
              0.2222222222222222,
              "#7201a8"
             ],
             [
              0.3333333333333333,
              "#9c179e"
             ],
             [
              0.4444444444444444,
              "#bd3786"
             ],
             [
              0.5555555555555556,
              "#d8576b"
             ],
             [
              0.6666666666666666,
              "#ed7953"
             ],
             [
              0.7777777777777778,
              "#fb9f3a"
             ],
             [
              0.8888888888888888,
              "#fdca26"
             ],
             [
              1,
              "#f0f921"
             ]
            ],
            "type": "contour"
           }
          ],
          "contourcarpet": [
           {
            "colorbar": {
             "outlinewidth": 0,
             "ticks": ""
            },
            "type": "contourcarpet"
           }
          ],
          "heatmap": [
           {
            "colorbar": {
             "outlinewidth": 0,
             "ticks": ""
            },
            "colorscale": [
             [
              0,
              "#0d0887"
             ],
             [
              0.1111111111111111,
              "#46039f"
             ],
             [
              0.2222222222222222,
              "#7201a8"
             ],
             [
              0.3333333333333333,
              "#9c179e"
             ],
             [
              0.4444444444444444,
              "#bd3786"
             ],
             [
              0.5555555555555556,
              "#d8576b"
             ],
             [
              0.6666666666666666,
              "#ed7953"
             ],
             [
              0.7777777777777778,
              "#fb9f3a"
             ],
             [
              0.8888888888888888,
              "#fdca26"
             ],
             [
              1,
              "#f0f921"
             ]
            ],
            "type": "heatmap"
           }
          ],
          "heatmapgl": [
           {
            "colorbar": {
             "outlinewidth": 0,
             "ticks": ""
            },
            "colorscale": [
             [
              0,
              "#0d0887"
             ],
             [
              0.1111111111111111,
              "#46039f"
             ],
             [
              0.2222222222222222,
              "#7201a8"
             ],
             [
              0.3333333333333333,
              "#9c179e"
             ],
             [
              0.4444444444444444,
              "#bd3786"
             ],
             [
              0.5555555555555556,
              "#d8576b"
             ],
             [
              0.6666666666666666,
              "#ed7953"
             ],
             [
              0.7777777777777778,
              "#fb9f3a"
             ],
             [
              0.8888888888888888,
              "#fdca26"
             ],
             [
              1,
              "#f0f921"
             ]
            ],
            "type": "heatmapgl"
           }
          ],
          "histogram": [
           {
            "marker": {
             "pattern": {
              "fillmode": "overlay",
              "size": 10,
              "solidity": 0.2
             }
            },
            "type": "histogram"
           }
          ],
          "histogram2d": [
           {
            "colorbar": {
             "outlinewidth": 0,
             "ticks": ""
            },
            "colorscale": [
             [
              0,
              "#0d0887"
             ],
             [
              0.1111111111111111,
              "#46039f"
             ],
             [
              0.2222222222222222,
              "#7201a8"
             ],
             [
              0.3333333333333333,
              "#9c179e"
             ],
             [
              0.4444444444444444,
              "#bd3786"
             ],
             [
              0.5555555555555556,
              "#d8576b"
             ],
             [
              0.6666666666666666,
              "#ed7953"
             ],
             [
              0.7777777777777778,
              "#fb9f3a"
             ],
             [
              0.8888888888888888,
              "#fdca26"
             ],
             [
              1,
              "#f0f921"
             ]
            ],
            "type": "histogram2d"
           }
          ],
          "histogram2dcontour": [
           {
            "colorbar": {
             "outlinewidth": 0,
             "ticks": ""
            },
            "colorscale": [
             [
              0,
              "#0d0887"
             ],
             [
              0.1111111111111111,
              "#46039f"
             ],
             [
              0.2222222222222222,
              "#7201a8"
             ],
             [
              0.3333333333333333,
              "#9c179e"
             ],
             [
              0.4444444444444444,
              "#bd3786"
             ],
             [
              0.5555555555555556,
              "#d8576b"
             ],
             [
              0.6666666666666666,
              "#ed7953"
             ],
             [
              0.7777777777777778,
              "#fb9f3a"
             ],
             [
              0.8888888888888888,
              "#fdca26"
             ],
             [
              1,
              "#f0f921"
             ]
            ],
            "type": "histogram2dcontour"
           }
          ],
          "mesh3d": [
           {
            "colorbar": {
             "outlinewidth": 0,
             "ticks": ""
            },
            "type": "mesh3d"
           }
          ],
          "parcoords": [
           {
            "line": {
             "colorbar": {
              "outlinewidth": 0,
              "ticks": ""
             }
            },
            "type": "parcoords"
           }
          ],
          "pie": [
           {
            "automargin": true,
            "type": "pie"
           }
          ],
          "scatter": [
           {
            "fillpattern": {
             "fillmode": "overlay",
             "size": 10,
             "solidity": 0.2
            },
            "type": "scatter"
           }
          ],
          "scatter3d": [
           {
            "line": {
             "colorbar": {
              "outlinewidth": 0,
              "ticks": ""
             }
            },
            "marker": {
             "colorbar": {
              "outlinewidth": 0,
              "ticks": ""
             }
            },
            "type": "scatter3d"
           }
          ],
          "scattercarpet": [
           {
            "marker": {
             "colorbar": {
              "outlinewidth": 0,
              "ticks": ""
             }
            },
            "type": "scattercarpet"
           }
          ],
          "scattergeo": [
           {
            "marker": {
             "colorbar": {
              "outlinewidth": 0,
              "ticks": ""
             }
            },
            "type": "scattergeo"
           }
          ],
          "scattergl": [
           {
            "marker": {
             "colorbar": {
              "outlinewidth": 0,
              "ticks": ""
             }
            },
            "type": "scattergl"
           }
          ],
          "scattermapbox": [
           {
            "marker": {
             "colorbar": {
              "outlinewidth": 0,
              "ticks": ""
             }
            },
            "type": "scattermapbox"
           }
          ],
          "scatterpolar": [
           {
            "marker": {
             "colorbar": {
              "outlinewidth": 0,
              "ticks": ""
             }
            },
            "type": "scatterpolar"
           }
          ],
          "scatterpolargl": [
           {
            "marker": {
             "colorbar": {
              "outlinewidth": 0,
              "ticks": ""
             }
            },
            "type": "scatterpolargl"
           }
          ],
          "scatterternary": [
           {
            "marker": {
             "colorbar": {
              "outlinewidth": 0,
              "ticks": ""
             }
            },
            "type": "scatterternary"
           }
          ],
          "surface": [
           {
            "colorbar": {
             "outlinewidth": 0,
             "ticks": ""
            },
            "colorscale": [
             [
              0,
              "#0d0887"
             ],
             [
              0.1111111111111111,
              "#46039f"
             ],
             [
              0.2222222222222222,
              "#7201a8"
             ],
             [
              0.3333333333333333,
              "#9c179e"
             ],
             [
              0.4444444444444444,
              "#bd3786"
             ],
             [
              0.5555555555555556,
              "#d8576b"
             ],
             [
              0.6666666666666666,
              "#ed7953"
             ],
             [
              0.7777777777777778,
              "#fb9f3a"
             ],
             [
              0.8888888888888888,
              "#fdca26"
             ],
             [
              1,
              "#f0f921"
             ]
            ],
            "type": "surface"
           }
          ],
          "table": [
           {
            "cells": {
             "fill": {
              "color": "#EBF0F8"
             },
             "line": {
              "color": "white"
             }
            },
            "header": {
             "fill": {
              "color": "#C8D4E3"
             },
             "line": {
              "color": "white"
             }
            },
            "type": "table"
           }
          ]
         },
         "layout": {
          "annotationdefaults": {
           "arrowcolor": "#2a3f5f",
           "arrowhead": 0,
           "arrowwidth": 1
          },
          "autotypenumbers": "strict",
          "coloraxis": {
           "colorbar": {
            "outlinewidth": 0,
            "ticks": ""
           }
          },
          "colorscale": {
           "diverging": [
            [
             0,
             "#8e0152"
            ],
            [
             0.1,
             "#c51b7d"
            ],
            [
             0.2,
             "#de77ae"
            ],
            [
             0.3,
             "#f1b6da"
            ],
            [
             0.4,
             "#fde0ef"
            ],
            [
             0.5,
             "#f7f7f7"
            ],
            [
             0.6,
             "#e6f5d0"
            ],
            [
             0.7,
             "#b8e186"
            ],
            [
             0.8,
             "#7fbc41"
            ],
            [
             0.9,
             "#4d9221"
            ],
            [
             1,
             "#276419"
            ]
           ],
           "sequential": [
            [
             0,
             "#0d0887"
            ],
            [
             0.1111111111111111,
             "#46039f"
            ],
            [
             0.2222222222222222,
             "#7201a8"
            ],
            [
             0.3333333333333333,
             "#9c179e"
            ],
            [
             0.4444444444444444,
             "#bd3786"
            ],
            [
             0.5555555555555556,
             "#d8576b"
            ],
            [
             0.6666666666666666,
             "#ed7953"
            ],
            [
             0.7777777777777778,
             "#fb9f3a"
            ],
            [
             0.8888888888888888,
             "#fdca26"
            ],
            [
             1,
             "#f0f921"
            ]
           ],
           "sequentialminus": [
            [
             0,
             "#0d0887"
            ],
            [
             0.1111111111111111,
             "#46039f"
            ],
            [
             0.2222222222222222,
             "#7201a8"
            ],
            [
             0.3333333333333333,
             "#9c179e"
            ],
            [
             0.4444444444444444,
             "#bd3786"
            ],
            [
             0.5555555555555556,
             "#d8576b"
            ],
            [
             0.6666666666666666,
             "#ed7953"
            ],
            [
             0.7777777777777778,
             "#fb9f3a"
            ],
            [
             0.8888888888888888,
             "#fdca26"
            ],
            [
             1,
             "#f0f921"
            ]
           ]
          },
          "colorway": [
           "#636efa",
           "#EF553B",
           "#00cc96",
           "#ab63fa",
           "#FFA15A",
           "#19d3f3",
           "#FF6692",
           "#B6E880",
           "#FF97FF",
           "#FECB52"
          ],
          "font": {
           "color": "#2a3f5f"
          },
          "geo": {
           "bgcolor": "white",
           "lakecolor": "white",
           "landcolor": "white",
           "showlakes": true,
           "showland": true,
           "subunitcolor": "#C8D4E3"
          },
          "hoverlabel": {
           "align": "left"
          },
          "hovermode": "closest",
          "mapbox": {
           "style": "light"
          },
          "paper_bgcolor": "white",
          "plot_bgcolor": "white",
          "polar": {
           "angularaxis": {
            "gridcolor": "#EBF0F8",
            "linecolor": "#EBF0F8",
            "ticks": ""
           },
           "bgcolor": "white",
           "radialaxis": {
            "gridcolor": "#EBF0F8",
            "linecolor": "#EBF0F8",
            "ticks": ""
           }
          },
          "scene": {
           "xaxis": {
            "backgroundcolor": "white",
            "gridcolor": "#DFE8F3",
            "gridwidth": 2,
            "linecolor": "#EBF0F8",
            "showbackground": true,
            "ticks": "",
            "zerolinecolor": "#EBF0F8"
           },
           "yaxis": {
            "backgroundcolor": "white",
            "gridcolor": "#DFE8F3",
            "gridwidth": 2,
            "linecolor": "#EBF0F8",
            "showbackground": true,
            "ticks": "",
            "zerolinecolor": "#EBF0F8"
           },
           "zaxis": {
            "backgroundcolor": "white",
            "gridcolor": "#DFE8F3",
            "gridwidth": 2,
            "linecolor": "#EBF0F8",
            "showbackground": true,
            "ticks": "",
            "zerolinecolor": "#EBF0F8"
           }
          },
          "shapedefaults": {
           "line": {
            "color": "#2a3f5f"
           }
          },
          "ternary": {
           "aaxis": {
            "gridcolor": "#DFE8F3",
            "linecolor": "#A2B1C6",
            "ticks": ""
           },
           "baxis": {
            "gridcolor": "#DFE8F3",
            "linecolor": "#A2B1C6",
            "ticks": ""
           },
           "bgcolor": "white",
           "caxis": {
            "gridcolor": "#DFE8F3",
            "linecolor": "#A2B1C6",
            "ticks": ""
           }
          },
          "title": {
           "x": 0.05
          },
          "xaxis": {
           "automargin": true,
           "gridcolor": "#EBF0F8",
           "linecolor": "#EBF0F8",
           "ticks": "",
           "title": {
            "standoff": 15
           },
           "zerolinecolor": "#EBF0F8",
           "zerolinewidth": 2
          },
          "yaxis": {
           "automargin": true,
           "gridcolor": "#EBF0F8",
           "linecolor": "#EBF0F8",
           "ticks": "",
           "title": {
            "standoff": 15
           },
           "zerolinecolor": "#EBF0F8",
           "zerolinewidth": 2
          }
         }
        },
        "xaxis": {
         "anchor": "y",
         "domain": [
          0,
          1
         ],
         "tickmode": "linear",
         "title": {
          "text": "Review Rating"
         }
        },
        "yaxis": {
         "anchor": "x",
         "domain": [
          0,
          1
         ],
         "title": {
          "text": "Count"
         }
        }
       }
      }
     },
     "metadata": {},
     "output_type": "display_data"
    }
   ],
   "source": [
    "df_rating = df[\"Review Rating\"].value_counts().sort_index().reset_index()\n",
    "df_rating.columns = [\"Review Rating\", \"Count\"]\n",
    "\n",
    "avg_rating = df[\"Review Rating\"].mean()\n",
    "\n",
    "fig = px.bar(\n",
    "    data_frame=df_rating,\n",
    "    x=\"Review Rating\",\n",
    "    y=\"Count\",\n",
    "    # color=\"Review Rating\",\n",
    "    text=\"Count\",\n",
    "    color_discrete_sequence=pc.qualitative.Plotly\n",
    ")\n",
    "\n",
    "# tambahkan garis rata-rata (horizontal)\n",
    "fig.add_shape(\n",
    "    type=\"line\",\n",
    "    x0=avg_rating, x1=avg_rating,  # posisi garis pada rata-rata\n",
    "    y0=0, y1=df_rating[\"Count\"].max(),  # dari bawah ke atas\n",
    "    line=dict(color=\"red\", width=3, dash=\"dash\"),\n",
    "    name=\"Average Rating\"\n",
    ")\n",
    "\n",
    "# tambahkan teks untuk menunjukkan nilai rata-rata\n",
    "fig.add_annotation(\n",
    "    x=avg_rating,\n",
    "    y=df_rating[\"Count\"].max(),\n",
    "    text=f\"Avg: {avg_rating:.2f}\",\n",
    "    showarrow=False,\n",
    "    yshift=10,\n",
    "    font=dict(color=\"red\", size=12)\n",
    ")\n",
    "\n",
    "fig.update_traces(textposition=\"outside\")\n",
    "\n",
    "fig.update_layout(\n",
    "    xaxis=dict(tickmode=\"linear\"),\n",
    "    template=\"plotly_white\"\n",
    ")\n",
    "\n",
    "fig.show()"
   ]
  },
  {
   "cell_type": "code",
   "execution_count": null,
   "id": "23323c24",
   "metadata": {},
   "outputs": [
    {
     "ename": "AttributeError",
     "evalue": "module 'plotly.colors' has no attribute 'sequantial'",
     "output_type": "error",
     "traceback": [
      "\u001b[1;31m---------------------------------------------------------------------------\u001b[0m",
      "\u001b[1;31mAttributeError\u001b[0m                            Traceback (most recent call last)",
      "Cell \u001b[1;32mIn[35], line 10\u001b[0m\n\u001b[0;32m      1\u001b[0m df_shpping \u001b[38;5;241m=\u001b[39m df[\u001b[38;5;124m\"\u001b[39m\u001b[38;5;124mShipping Type\u001b[39m\u001b[38;5;124m\"\u001b[39m]\u001b[38;5;241m.\u001b[39mvalue_counts()\u001b[38;5;241m.\u001b[39msort_index()\u001b[38;5;241m.\u001b[39mreset_index()\n\u001b[0;32m      2\u001b[0m df_shpping\u001b[38;5;241m.\u001b[39mcolumns \u001b[38;5;241m=\u001b[39m [\u001b[38;5;124m\"\u001b[39m\u001b[38;5;124mShipping Type\u001b[39m\u001b[38;5;124m\"\u001b[39m, \u001b[38;5;124m\"\u001b[39m\u001b[38;5;124mCount\u001b[39m\u001b[38;5;124m\"\u001b[39m]\n\u001b[0;32m      4\u001b[0m fig_pie \u001b[38;5;241m=\u001b[39m px\u001b[38;5;241m.\u001b[39mpie(\n\u001b[0;32m      5\u001b[0m     data_frame\u001b[38;5;241m=\u001b[39mdf_shpping,\n\u001b[0;32m      6\u001b[0m     names\u001b[38;5;241m=\u001b[39m\u001b[38;5;124m\"\u001b[39m\u001b[38;5;124mShipping Type\u001b[39m\u001b[38;5;124m\"\u001b[39m,\n\u001b[0;32m      7\u001b[0m     values\u001b[38;5;241m=\u001b[39m\u001b[38;5;124m\"\u001b[39m\u001b[38;5;124mCount\u001b[39m\u001b[38;5;124m\"\u001b[39m,\n\u001b[0;32m      8\u001b[0m     title\u001b[38;5;241m=\u001b[39m\u001b[38;5;124m\"\u001b[39m\u001b[38;5;124mDistribution of Shipping Type\u001b[39m\u001b[38;5;124m\"\u001b[39m,\n\u001b[0;32m      9\u001b[0m     hole\u001b[38;5;241m=\u001b[39m\u001b[38;5;241m0.4\u001b[39m,\n\u001b[1;32m---> 10\u001b[0m     color_discrete_sequence\u001b[38;5;241m=\u001b[39m\u001b[43mpc\u001b[49m\u001b[38;5;241;43m.\u001b[39;49m\u001b[43msequantial\u001b[49m\u001b[38;5;241m.\u001b[39mViridis \n\u001b[0;32m     11\u001b[0m )\n\u001b[0;32m     13\u001b[0m fig_pie\u001b[38;5;241m.\u001b[39mupdate_traces(textinfo\u001b[38;5;241m=\u001b[39m\u001b[38;5;124m\"\u001b[39m\u001b[38;5;124mpercent+label\u001b[39m\u001b[38;5;124m\"\u001b[39m)\n\u001b[0;32m     15\u001b[0m fig_pie\u001b[38;5;241m.\u001b[39mupdate_layout(template\u001b[38;5;241m=\u001b[39m\u001b[38;5;124m\"\u001b[39m\u001b[38;5;124mplotly_white\u001b[39m\u001b[38;5;124m\"\u001b[39m)\n",
      "\u001b[1;31mAttributeError\u001b[0m: module 'plotly.colors' has no attribute 'sequantial'"
     ]
    }
   ],
   "source": [
    "df_shpping = df[\"Shipping Type\"].value_counts().sort_index().reset_index()\n",
    "df_shpping.columns = [\"Shipping Type\", \"Count\"]\n",
    "\n",
    "fig_pie = px.pie(\n",
    "    data_frame=df_shpping,\n",
    "    names=\"Shipping Type\",\n",
    "    values=\"Count\",\n",
    "    title=\"Distribution of Shipping Type\",\n",
    "    hole=0.4,\n",
    "    color_discrete_sequence=pc.sequential.Viridis \n",
    ")\n",
    "\n",
    "fig_pie.update_traces(textinfo=\"percent+label\")\n",
    "\n",
    "fig_pie.update_layout(template=\"plotly_white\")\n",
    "\n",
    "fig_pie.show()"
   ]
  },
  {
   "cell_type": "code",
   "execution_count": 36,
   "id": "36da1db5",
   "metadata": {},
   "outputs": [
    {
     "ename": "AttributeError",
     "evalue": "module 'plotly.colors' has no attribute 'sequantial'",
     "output_type": "error",
     "traceback": [
      "\u001b[1;31m---------------------------------------------------------------------------\u001b[0m",
      "\u001b[1;31mAttributeError\u001b[0m                            Traceback (most recent call last)",
      "Cell \u001b[1;32mIn[36], line 10\u001b[0m\n\u001b[0;32m      1\u001b[0m df_payment \u001b[38;5;241m=\u001b[39m df[\u001b[38;5;124m\"\u001b[39m\u001b[38;5;124mPayment Method\u001b[39m\u001b[38;5;124m\"\u001b[39m]\u001b[38;5;241m.\u001b[39mvalue_counts()\u001b[38;5;241m.\u001b[39msort_index()\u001b[38;5;241m.\u001b[39mreset_index()\n\u001b[0;32m      2\u001b[0m df_payment\u001b[38;5;241m.\u001b[39mcolumns \u001b[38;5;241m=\u001b[39m [\u001b[38;5;124m\"\u001b[39m\u001b[38;5;124mPayment Method\u001b[39m\u001b[38;5;124m\"\u001b[39m, \u001b[38;5;124m\"\u001b[39m\u001b[38;5;124mCount\u001b[39m\u001b[38;5;124m\"\u001b[39m]\n\u001b[0;32m      4\u001b[0m fig_pie \u001b[38;5;241m=\u001b[39m px\u001b[38;5;241m.\u001b[39mpie(\n\u001b[0;32m      5\u001b[0m     data_frame\u001b[38;5;241m=\u001b[39mdf_payment,\n\u001b[0;32m      6\u001b[0m     names\u001b[38;5;241m=\u001b[39m\u001b[38;5;124m\"\u001b[39m\u001b[38;5;124mPayment Method\u001b[39m\u001b[38;5;124m\"\u001b[39m,\n\u001b[0;32m      7\u001b[0m     values\u001b[38;5;241m=\u001b[39m\u001b[38;5;124m\"\u001b[39m\u001b[38;5;124mCount\u001b[39m\u001b[38;5;124m\"\u001b[39m,\n\u001b[0;32m      8\u001b[0m     title\u001b[38;5;241m=\u001b[39m\u001b[38;5;124m\"\u001b[39m\u001b[38;5;124mDistribution of Payment Method\u001b[39m\u001b[38;5;124m\"\u001b[39m,\n\u001b[0;32m      9\u001b[0m     hole\u001b[38;5;241m=\u001b[39m\u001b[38;5;241m0.4\u001b[39m,\n\u001b[1;32m---> 10\u001b[0m     color_discrete_sequence\u001b[38;5;241m=\u001b[39m\u001b[43mpc\u001b[49m\u001b[38;5;241;43m.\u001b[39;49m\u001b[43msequantial\u001b[49m\u001b[38;5;241m.\u001b[39mViridis\n\u001b[0;32m     11\u001b[0m )\n\u001b[0;32m     13\u001b[0m fig_pie\u001b[38;5;241m.\u001b[39mupdate_traces(textinfo\u001b[38;5;241m=\u001b[39m\u001b[38;5;124m\"\u001b[39m\u001b[38;5;124mpercent+label\u001b[39m\u001b[38;5;124m\"\u001b[39m)\n\u001b[0;32m     15\u001b[0m fig_pie\u001b[38;5;241m.\u001b[39mupdate_layout(template\u001b[38;5;241m=\u001b[39m\u001b[38;5;124m\"\u001b[39m\u001b[38;5;124mplotly_white\u001b[39m\u001b[38;5;124m\"\u001b[39m)\n",
      "\u001b[1;31mAttributeError\u001b[0m: module 'plotly.colors' has no attribute 'sequantial'"
     ]
    }
   ],
   "source": [
    "df_payment = df[\"Payment Method\"].value_counts().sort_index().reset_index()\n",
    "df_payment.columns = [\"Payment Method\", \"Count\"]\n",
    "\n",
    "fig_pie = px.pie(\n",
    "    data_frame=df_payment,\n",
    "    names=\"Payment Method\",\n",
    "    values=\"Count\",\n",
    "    title=\"Distribution of Payment Method\",\n",
    "    hole=0.4,\n",
    "    color_discrete_sequence=pc.sequantial.Viridis\n",
    ")\n",
    "\n",
    "fig_pie.update_traces(textinfo=\"percent+label\")\n",
    "\n",
    "fig_pie.update_layout(template=\"plotly_white\")\n",
    "\n",
    "fig_pie.show()"
   ]
  }
 ],
 "metadata": {
  "kernelspec": {
   "display_name": "Python 3",
   "language": "python",
   "name": "python3"
  },
  "language_info": {
   "codemirror_mode": {
    "name": "ipython",
    "version": 3
   },
   "file_extension": ".py",
   "mimetype": "text/x-python",
   "name": "python",
   "nbconvert_exporter": "python",
   "pygments_lexer": "ipython3",
   "version": "3.12.6"
  }
 },
 "nbformat": 4,
 "nbformat_minor": 5
}
